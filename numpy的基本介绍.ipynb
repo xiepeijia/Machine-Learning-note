{
  "nbformat": 4,
  "nbformat_minor": 0,
  "metadata": {
    "kernelspec": {
      "display_name": "Python 3",
      "language": "python",
      "name": "python3"
    },
    "language_info": {
      "codemirror_mode": {
        "name": "ipython",
        "version": 3
      },
      "file_extension": ".py",
      "mimetype": "text/x-python",
      "name": "python",
      "nbconvert_exporter": "python",
      "pygments_lexer": "ipython3",
      "version": "3.6.5"
    },
    "toc": {
      "base_numbering": 1,
      "nav_menu": {},
      "number_sections": true,
      "sideBar": true,
      "skip_h1_title": false,
      "title_cell": "Table of Contents",
      "title_sidebar": "Contents",
      "toc_cell": false,
      "toc_position": {},
      "toc_section_display": true,
      "toc_window_display": true
    },
    "colab": {
      "name": "numpy的基本介绍.ipynb",
      "version": "0.3.2",
      "provenance": [],
      "include_colab_link": true
    }
  },
  "cells": [
    {
      "cell_type": "markdown",
      "metadata": {
        "id": "view-in-github",
        "colab_type": "text"
      },
      "source": [
        "<a href=\"https://colab.research.google.com/github/xiepeijia/Machine-Learning-note/blob/master/numpy%E7%9A%84%E5%9F%BA%E6%9C%AC%E4%BB%8B%E7%BB%8D.ipynb\" target=\"_parent\"><img src=\"https://colab.research.google.com/assets/colab-badge.svg\" alt=\"Open In Colab\"/></a>"
      ]
    },
    {
      "cell_type": "code",
      "metadata": {
        "id": "_QFEBnu21eik",
        "colab_type": "code",
        "colab": {}
      },
      "source": [
        "import numpy as np\n",
        "import matplotlib.pyplot as plt"
      ],
      "execution_count": 0,
      "outputs": []
    },
    {
      "cell_type": "markdown",
      "metadata": {
        "id": "QIVbWNJ61eio",
        "colab_type": "text"
      },
      "source": [
        "### ndarray的属性"
      ]
    },
    {
      "cell_type": "code",
      "metadata": {
        "id": "vZX64f-y1eip",
        "colab_type": "code",
        "colab": {
          "base_uri": "https://localhost:8080/",
          "height": 153
        },
        "outputId": "25fef2da-2a18-48f9-9a59-0b7b6074325d"
      },
      "source": [
        "score = np.array(\n",
        "[[80, 89, 86, 67, 79],\n",
        "[78, 97, 89, 67, 81],\n",
        "[90, 94, 78, 67, 74],\n",
        "[91, 91, 90, 67, 69],\n",
        "[76, 87, 75, 67, 86],\n",
        "[70, 79, 84, 67, 84],\n",
        "[94, 92, 93, 67, 64],\n",
        "[86, 85, 83, 67, 80]])\n",
        "score"
      ],
      "execution_count": 2,
      "outputs": [
        {
          "output_type": "execute_result",
          "data": {
            "text/plain": [
              "array([[80, 89, 86, 67, 79],\n",
              "       [78, 97, 89, 67, 81],\n",
              "       [90, 94, 78, 67, 74],\n",
              "       [91, 91, 90, 67, 69],\n",
              "       [76, 87, 75, 67, 86],\n",
              "       [70, 79, 84, 67, 84],\n",
              "       [94, 92, 93, 67, 64],\n",
              "       [86, 85, 83, 67, 80]])"
            ]
          },
          "metadata": {
            "tags": []
          },
          "execution_count": 2
        }
      ]
    },
    {
      "cell_type": "code",
      "metadata": {
        "id": "P2R4sOOM1eis",
        "colab_type": "code",
        "colab": {
          "base_uri": "https://localhost:8080/",
          "height": 34
        },
        "outputId": "6e9a4027-6aee-4113-df7a-0b339994928b"
      },
      "source": [
        "score.shape"
      ],
      "execution_count": 3,
      "outputs": [
        {
          "output_type": "execute_result",
          "data": {
            "text/plain": [
              "(8, 5)"
            ]
          },
          "metadata": {
            "tags": []
          },
          "execution_count": 3
        }
      ]
    },
    {
      "cell_type": "code",
      "metadata": {
        "id": "V8GxU-hN2dG1",
        "colab_type": "code",
        "colab": {
          "base_uri": "https://localhost:8080/",
          "height": 34
        },
        "outputId": "5f8af15e-348d-48f6-effe-1eae4657d099"
      },
      "source": [
        "score.shape[0]"
      ],
      "execution_count": 4,
      "outputs": [
        {
          "output_type": "execute_result",
          "data": {
            "text/plain": [
              "8"
            ]
          },
          "metadata": {
            "tags": []
          },
          "execution_count": 4
        }
      ]
    },
    {
      "cell_type": "code",
      "metadata": {
        "id": "SmMhrMFD2djE",
        "colab_type": "code",
        "colab": {
          "base_uri": "https://localhost:8080/",
          "height": 34
        },
        "outputId": "b2c687d6-11ba-487a-aa01-f4a98b5f1a9c"
      },
      "source": [
        "score.shape[1]"
      ],
      "execution_count": 5,
      "outputs": [
        {
          "output_type": "execute_result",
          "data": {
            "text/plain": [
              "5"
            ]
          },
          "metadata": {
            "tags": []
          },
          "execution_count": 5
        }
      ]
    },
    {
      "cell_type": "code",
      "metadata": {
        "id": "YGf54Ung1eiw",
        "colab_type": "code",
        "colab": {
          "base_uri": "https://localhost:8080/",
          "height": 34
        },
        "outputId": "86092f04-9c92-48f9-f286-1389140e4725"
      },
      "source": [
        "score.ndim"
      ],
      "execution_count": 6,
      "outputs": [
        {
          "output_type": "execute_result",
          "data": {
            "text/plain": [
              "2"
            ]
          },
          "metadata": {
            "tags": []
          },
          "execution_count": 6
        }
      ]
    },
    {
      "cell_type": "code",
      "metadata": {
        "id": "kB2aNSF71eiz",
        "colab_type": "code",
        "colab": {
          "base_uri": "https://localhost:8080/",
          "height": 34
        },
        "outputId": "c140a227-eea2-4e60-9305-c3d6beb0912a"
      },
      "source": [
        "score.size"
      ],
      "execution_count": 7,
      "outputs": [
        {
          "output_type": "execute_result",
          "data": {
            "text/plain": [
              "40"
            ]
          },
          "metadata": {
            "tags": []
          },
          "execution_count": 7
        }
      ]
    },
    {
      "cell_type": "code",
      "metadata": {
        "id": "nvtG1-aT1ei2",
        "colab_type": "code",
        "colab": {
          "base_uri": "https://localhost:8080/",
          "height": 34
        },
        "outputId": "f9bbf19f-bd07-417e-ffc0-ed8fc36c2196"
      },
      "source": [
        "score.itemsize"
      ],
      "execution_count": 8,
      "outputs": [
        {
          "output_type": "execute_result",
          "data": {
            "text/plain": [
              "8"
            ]
          },
          "metadata": {
            "tags": []
          },
          "execution_count": 8
        }
      ]
    },
    {
      "cell_type": "code",
      "metadata": {
        "id": "-LN_sjBv1ei4",
        "colab_type": "code",
        "colab": {
          "base_uri": "https://localhost:8080/",
          "height": 34
        },
        "outputId": "e0822a08-4144-4e2d-c204-fc2a13976afb"
      },
      "source": [
        " score.dtype"
      ],
      "execution_count": 9,
      "outputs": [
        {
          "output_type": "execute_result",
          "data": {
            "text/plain": [
              "dtype('int64')"
            ]
          },
          "metadata": {
            "tags": []
          },
          "execution_count": 9
        }
      ]
    },
    {
      "cell_type": "code",
      "metadata": {
        "id": "22h4H55V1ei7",
        "colab_type": "code",
        "colab": {
          "base_uri": "https://localhost:8080/",
          "height": 102
        },
        "outputId": "7ac47aa6-bfd3-4705-aa8d-6dd3e65f415b"
      },
      "source": [
        "c = np.array([[[1,2,3], [3,4,5]],[[1,2,3], [3,4,5]]])\n",
        "c"
      ],
      "execution_count": 10,
      "outputs": [
        {
          "output_type": "execute_result",
          "data": {
            "text/plain": [
              "array([[[1, 2, 3],\n",
              "        [3, 4, 5]],\n",
              "\n",
              "       [[1, 2, 3],\n",
              "        [3, 4, 5]]])"
            ]
          },
          "metadata": {
            "tags": []
          },
          "execution_count": 10
        }
      ]
    },
    {
      "cell_type": "code",
      "metadata": {
        "id": "upRYHOdK1ejB",
        "colab_type": "code",
        "colab": {
          "base_uri": "https://localhost:8080/",
          "height": 34
        },
        "outputId": "f5a5a9f8-25d9-4012-e719-973ab0abe162"
      },
      "source": [
        "c.shape"
      ],
      "execution_count": 11,
      "outputs": [
        {
          "output_type": "execute_result",
          "data": {
            "text/plain": [
              "(2, 2, 3)"
            ]
          },
          "metadata": {
            "tags": []
          },
          "execution_count": 11
        }
      ]
    },
    {
      "cell_type": "code",
      "metadata": {
        "id": "2BW2Ggb61ejD",
        "colab_type": "code",
        "colab": {
          "base_uri": "https://localhost:8080/",
          "height": 34
        },
        "outputId": "889f9580-741c-42a5-f543-40f382988bfb"
      },
      "source": [
        "a = [\"hello\", \"python\", \"aaaaaaaaaa\"]\n",
        "a_nd = np.array(a)\n",
        "a_nd"
      ],
      "execution_count": 12,
      "outputs": [
        {
          "output_type": "execute_result",
          "data": {
            "text/plain": [
              "array(['hello', 'python', 'aaaaaaaaaa'], dtype='<U10')"
            ]
          },
          "metadata": {
            "tags": []
          },
          "execution_count": 12
        }
      ]
    },
    {
      "cell_type": "code",
      "metadata": {
        "id": "IUESbNli1ejH",
        "colab_type": "code",
        "colab": {
          "base_uri": "https://localhost:8080/",
          "height": 34
        },
        "outputId": "62a5dd72-46b7-40cb-a92c-d7d6c0177e65"
      },
      "source": [
        "type(score.dtype)"
      ],
      "execution_count": 13,
      "outputs": [
        {
          "output_type": "execute_result",
          "data": {
            "text/plain": [
              "numpy.dtype"
            ]
          },
          "metadata": {
            "tags": []
          },
          "execution_count": 13
        }
      ]
    },
    {
      "cell_type": "markdown",
      "metadata": {
        "id": "2sp2Cgpb1ejK",
        "colab_type": "text"
      },
      "source": [
        "### 数组生成\n",
        "#### 生成0,1数组"
      ]
    },
    {
      "cell_type": "code",
      "metadata": {
        "id": "98cTaKEU1ejL",
        "colab_type": "code",
        "colab": {
          "base_uri": "https://localhost:8080/",
          "height": 102
        },
        "outputId": "98dd3d4c-1c78-41a6-f5e1-3d33422fc5bc"
      },
      "source": [
        "ones = np.ones([5, 9])\n",
        "ones"
      ],
      "execution_count": 14,
      "outputs": [
        {
          "output_type": "execute_result",
          "data": {
            "text/plain": [
              "array([[1., 1., 1., 1., 1., 1., 1., 1., 1.],\n",
              "       [1., 1., 1., 1., 1., 1., 1., 1., 1.],\n",
              "       [1., 1., 1., 1., 1., 1., 1., 1., 1.],\n",
              "       [1., 1., 1., 1., 1., 1., 1., 1., 1.],\n",
              "       [1., 1., 1., 1., 1., 1., 1., 1., 1.]])"
            ]
          },
          "metadata": {
            "tags": []
          },
          "execution_count": 14
        }
      ]
    },
    {
      "cell_type": "code",
      "metadata": {
        "id": "0SsJpnJ71ejN",
        "colab_type": "code",
        "colab": {
          "base_uri": "https://localhost:8080/",
          "height": 153
        },
        "outputId": "1e9f6d87-c64f-4ea6-8d01-23ae6bab3836"
      },
      "source": [
        "score"
      ],
      "execution_count": 15,
      "outputs": [
        {
          "output_type": "execute_result",
          "data": {
            "text/plain": [
              "array([[80, 89, 86, 67, 79],\n",
              "       [78, 97, 89, 67, 81],\n",
              "       [90, 94, 78, 67, 74],\n",
              "       [91, 91, 90, 67, 69],\n",
              "       [76, 87, 75, 67, 86],\n",
              "       [70, 79, 84, 67, 84],\n",
              "       [94, 92, 93, 67, 64],\n",
              "       [86, 85, 83, 67, 80]])"
            ]
          },
          "metadata": {
            "tags": []
          },
          "execution_count": 15
        }
      ]
    },
    {
      "cell_type": "code",
      "metadata": {
        "id": "1hqb_Rh51ejQ",
        "colab_type": "code",
        "colab": {
          "base_uri": "https://localhost:8080/",
          "height": 153
        },
        "outputId": "ce38d151-397e-41e9-9500-e52592d3d23e"
      },
      "source": [
        "np.zeros_like(score)"
      ],
      "execution_count": 16,
      "outputs": [
        {
          "output_type": "execute_result",
          "data": {
            "text/plain": [
              "array([[0, 0, 0, 0, 0],\n",
              "       [0, 0, 0, 0, 0],\n",
              "       [0, 0, 0, 0, 0],\n",
              "       [0, 0, 0, 0, 0],\n",
              "       [0, 0, 0, 0, 0],\n",
              "       [0, 0, 0, 0, 0],\n",
              "       [0, 0, 0, 0, 0],\n",
              "       [0, 0, 0, 0, 0]])"
            ]
          },
          "metadata": {
            "tags": []
          },
          "execution_count": 16
        }
      ]
    },
    {
      "cell_type": "markdown",
      "metadata": {
        "id": "QI9aWbv61ejT",
        "colab_type": "text"
      },
      "source": [
        "#### 从现有数组生成"
      ]
    },
    {
      "cell_type": "code",
      "metadata": {
        "id": "DOwq7oXo1ejT",
        "colab_type": "code",
        "colab": {
          "base_uri": "https://localhost:8080/",
          "height": 51
        },
        "outputId": "57ad4148-c8ad-4925-d8c8-1b46cd6f6450"
      },
      "source": [
        "a = np.array([[1,2,3], [3,4,5]])\n",
        "a"
      ],
      "execution_count": 17,
      "outputs": [
        {
          "output_type": "execute_result",
          "data": {
            "text/plain": [
              "array([[1, 2, 3],\n",
              "       [3, 4, 5]])"
            ]
          },
          "metadata": {
            "tags": []
          },
          "execution_count": 17
        }
      ]
    },
    {
      "cell_type": "code",
      "metadata": {
        "id": "lIUFqLIa1ejW",
        "colab_type": "code",
        "colab": {
          "base_uri": "https://localhost:8080/",
          "height": 51
        },
        "outputId": "f54fca2d-8265-4456-b7b6-e69ad94185b5"
      },
      "source": [
        "b = np.array(a)\n",
        "b"
      ],
      "execution_count": 18,
      "outputs": [
        {
          "output_type": "execute_result",
          "data": {
            "text/plain": [
              "array([[1, 2, 3],\n",
              "       [3, 4, 5]])"
            ]
          },
          "metadata": {
            "tags": []
          },
          "execution_count": 18
        }
      ]
    },
    {
      "cell_type": "code",
      "metadata": {
        "id": "tFe3s53Y1ejZ",
        "colab_type": "code",
        "colab": {
          "base_uri": "https://localhost:8080/",
          "height": 51
        },
        "outputId": "9b71f274-7769-450a-8d9e-8e7ce00026c7"
      },
      "source": [
        "c = np.asarray(a)\n",
        "c"
      ],
      "execution_count": 19,
      "outputs": [
        {
          "output_type": "execute_result",
          "data": {
            "text/plain": [
              "array([[1, 2, 3],\n",
              "       [3, 4, 5]])"
            ]
          },
          "metadata": {
            "tags": []
          },
          "execution_count": 19
        }
      ]
    },
    {
      "cell_type": "code",
      "metadata": {
        "id": "8DdrvUhW1ejb",
        "colab_type": "code",
        "colab": {}
      },
      "source": [
        "a[0, 2] = 100"
      ],
      "execution_count": 0,
      "outputs": []
    },
    {
      "cell_type": "code",
      "metadata": {
        "id": "ZijwJt0J1eje",
        "colab_type": "code",
        "colab": {
          "base_uri": "https://localhost:8080/",
          "height": 51
        },
        "outputId": "40e172aa-bf5b-43c8-ac56-3ab49057b2bc"
      },
      "source": [
        "a"
      ],
      "execution_count": 21,
      "outputs": [
        {
          "output_type": "execute_result",
          "data": {
            "text/plain": [
              "array([[  1,   2, 100],\n",
              "       [  3,   4,   5]])"
            ]
          },
          "metadata": {
            "tags": []
          },
          "execution_count": 21
        }
      ]
    },
    {
      "cell_type": "code",
      "metadata": {
        "id": "52hmUraG1ejh",
        "colab_type": "code",
        "colab": {
          "base_uri": "https://localhost:8080/",
          "height": 51
        },
        "outputId": "959e0f47-2efc-4c1d-da84-2a8a5f56f354"
      },
      "source": [
        "b"
      ],
      "execution_count": 22,
      "outputs": [
        {
          "output_type": "execute_result",
          "data": {
            "text/plain": [
              "array([[1, 2, 3],\n",
              "       [3, 4, 5]])"
            ]
          },
          "metadata": {
            "tags": []
          },
          "execution_count": 22
        }
      ]
    },
    {
      "cell_type": "code",
      "metadata": {
        "id": "5Ptmh4aY1ejo",
        "colab_type": "code",
        "colab": {
          "base_uri": "https://localhost:8080/",
          "height": 51
        },
        "outputId": "cf4d3fc2-c896-45ce-a036-c545cfb852d6"
      },
      "source": [
        "c"
      ],
      "execution_count": 23,
      "outputs": [
        {
          "output_type": "execute_result",
          "data": {
            "text/plain": [
              "array([[  1,   2, 100],\n",
              "       [  3,   4,   5]])"
            ]
          },
          "metadata": {
            "tags": []
          },
          "execution_count": 23
        }
      ]
    },
    {
      "cell_type": "markdown",
      "metadata": {
        "id": "ZhMuAvRf1ejr",
        "colab_type": "text"
      },
      "source": [
        "#### 生成固定范围的数组"
      ]
    },
    {
      "cell_type": "code",
      "metadata": {
        "id": "AZ2g0bAG1ejs",
        "colab_type": "code",
        "colab": {
          "base_uri": "https://localhost:8080/",
          "height": 34
        },
        "outputId": "99d5103b-1132-414b-df3c-e5302b03ed52"
      },
      "source": [
        "np.linspace(0, 100, 11)"
      ],
      "execution_count": 24,
      "outputs": [
        {
          "output_type": "execute_result",
          "data": {
            "text/plain": [
              "array([  0.,  10.,  20.,  30.,  40.,  50.,  60.,  70.,  80.,  90., 100.])"
            ]
          },
          "metadata": {
            "tags": []
          },
          "execution_count": 24
        }
      ]
    },
    {
      "cell_type": "code",
      "metadata": {
        "id": "BewHNxTY1ejv",
        "colab_type": "code",
        "colab": {
          "base_uri": "https://localhost:8080/",
          "height": 51
        },
        "outputId": "3b8c63e4-fe87-45be-8ccc-72d3c45f7012"
      },
      "source": [
        "np.arange(2, 100, 3)"
      ],
      "execution_count": 25,
      "outputs": [
        {
          "output_type": "execute_result",
          "data": {
            "text/plain": [
              "array([ 2,  5,  8, 11, 14, 17, 20, 23, 26, 29, 32, 35, 38, 41, 44, 47, 50,\n",
              "       53, 56, 59, 62, 65, 68, 71, 74, 77, 80, 83, 86, 89, 92, 95, 98])"
            ]
          },
          "metadata": {
            "tags": []
          },
          "execution_count": 25
        }
      ]
    },
    {
      "cell_type": "code",
      "metadata": {
        "id": "xB6mr53s1ejx",
        "colab_type": "code",
        "colab": {
          "base_uri": "https://localhost:8080/",
          "height": 34
        },
        "outputId": "ed82aaa7-2399-46f6-d8d9-eda34c80246f"
      },
      "source": [
        "np.logspace(0, 2, 3)"
      ],
      "execution_count": 26,
      "outputs": [
        {
          "output_type": "execute_result",
          "data": {
            "text/plain": [
              "array([  1.,  10., 100.])"
            ]
          },
          "metadata": {
            "tags": []
          },
          "execution_count": 26
        }
      ]
    },
    {
      "cell_type": "markdown",
      "metadata": {
        "id": "KNWGD3Da1ej0",
        "colab_type": "text"
      },
      "source": [
        "#### 生成随机数组\n",
        "##### 正态分布"
      ]
    },
    {
      "cell_type": "code",
      "metadata": {
        "id": "zg9hdPgi1ej2",
        "colab_type": "code",
        "colab": {
          "base_uri": "https://localhost:8080/",
          "height": 51
        },
        "outputId": "646efe0f-a53b-4de2-a8d8-b5b6723baada"
      },
      "source": [
        "np.random.randn(2, 3)"
      ],
      "execution_count": 27,
      "outputs": [
        {
          "output_type": "execute_result",
          "data": {
            "text/plain": [
              "array([[ 1.36174638, -1.04117047, -0.3378141 ],\n",
              "       [ 0.95443143,  0.23452502,  1.47411236]])"
            ]
          },
          "metadata": {
            "tags": []
          },
          "execution_count": 27
        }
      ]
    },
    {
      "cell_type": "code",
      "metadata": {
        "id": "FQV6Dmw01ej5",
        "colab_type": "code",
        "colab": {
          "base_uri": "https://localhost:8080/",
          "height": 187
        },
        "outputId": "9277370a-496d-4c57-92c1-da9fa888344f"
      },
      "source": [
        "np.random.normal(0, 10, (10, 3))"
      ],
      "execution_count": 28,
      "outputs": [
        {
          "output_type": "execute_result",
          "data": {
            "text/plain": [
              "array([[  1.00773461, -11.2989472 , -10.46210463],\n",
              "       [ -3.28309496,  -8.43932811, -10.80609127],\n",
              "       [-23.27469318,   3.66014012,   6.50996883],\n",
              "       [ -5.15050094,  -8.21746108,  -0.35487765],\n",
              "       [  5.00745244,  -1.80201873,  -8.79231506],\n",
              "       [  8.26605351, -12.42947658,   2.75358862],\n",
              "       [-16.39208401,  -0.51406705, -25.47264402],\n",
              "       [-17.49598694, -10.02967009,  18.80617036],\n",
              "       [ -0.98627238,  -1.29580691,  19.43103835],\n",
              "       [ -3.27989397, -19.40095028,  -8.75493599]])"
            ]
          },
          "metadata": {
            "tags": []
          },
          "execution_count": 28
        }
      ]
    },
    {
      "cell_type": "code",
      "metadata": {
        "id": "XD6N3ItL1ej8",
        "colab_type": "code",
        "colab": {
          "base_uri": "https://localhost:8080/",
          "height": 85
        },
        "outputId": "e2076824-2744-4e17-ad07-ff3ecc2af234"
      },
      "source": [
        "np.random.standard_normal(size=(4, 3))"
      ],
      "execution_count": 29,
      "outputs": [
        {
          "output_type": "execute_result",
          "data": {
            "text/plain": [
              "array([[-1.84977208,  0.3223321 ,  0.8142737 ],\n",
              "       [ 0.1935504 ,  0.65369162, -0.34023286],\n",
              "       [-1.73337963,  0.4201597 ,  1.27087262],\n",
              "       [-2.15351179, -1.08821018, -0.55089715]])"
            ]
          },
          "metadata": {
            "tags": []
          },
          "execution_count": 29
        }
      ]
    },
    {
      "cell_type": "code",
      "metadata": {
        "id": "tIa8gDGQ1ej-",
        "colab_type": "code",
        "colab": {
          "base_uri": "https://localhost:8080/",
          "height": 668
        },
        "outputId": "2695ca4f-d238-4f30-f85a-9e1d6e958c8a"
      },
      "source": [
        "# 0. 生成数据\n",
        "x = np.random.normal(1.75, 1, 100000000)\n",
        "\n",
        "# 1.画布\n",
        "plt.figure(figsize=(20, 8), dpi=100)\n",
        "\n",
        "# 2.绘制\n",
        "plt.hist(x, 1000)\n",
        "\n",
        "# 3.显示\n",
        "plt.show()"
      ],
      "execution_count": 30,
      "outputs": [
        {
          "output_type": "display_data",
          "data": {
            "image/png": "[encoded data removed]",
            "text/plain": [
              "<Figure size 2000x800 with 1 Axes>"
            ]
          },
          "metadata": {
            "tags": []
          }
        }
      ]
    },
    {
      "cell_type": "code",
      "metadata": {
        "id": "xhJH0Abc1ekB",
        "colab_type": "code",
        "colab": {
          "base_uri": "https://localhost:8080/",
          "height": 668
        },
        "outputId": "f98159df-9c42-4185-80ad-9276245b8d14"
      },
      "source": [
        "# 0. 生成数据\n",
        "x = np.random.normal(1.75, 1, 1000)\n",
        "\n",
        "# 1.画布\n",
        "plt.figure(figsize=(20, 8), dpi=100)\n",
        "\n",
        "# 2.绘制\n",
        "plt.hist(x, 10)\n",
        "\n",
        "# 3.显示\n",
        "plt.show()"
      ],
      "execution_count": 31,
      "outputs": [
        {
          "output_type": "display_data",
          "data": {
            "image/png": "[encoded data removed]",
            "text/plain": [
              "<Figure size 2000x800 with 1 Axes>"
            ]
          },
          "metadata": {
            "tags": []
          }
        }
      ]
    },
    {
      "cell_type": "markdown",
      "metadata": {
        "id": "b_ebXjSz1ekE",
        "colab_type": "text"
      },
      "source": [
        "##### 均匀分布"
      ]
    },
    {
      "cell_type": "code",
      "metadata": {
        "id": "0mqZh_sJ1ekF",
        "colab_type": "code",
        "colab": {
          "base_uri": "https://localhost:8080/",
          "height": 204
        },
        "outputId": "db08de5b-798f-4490-c99d-cb631fe23768"
      },
      "source": [
        "np.random.rand(2, 5,3)"
      ],
      "execution_count": 32,
      "outputs": [
        {
          "output_type": "execute_result",
          "data": {
            "text/plain": [
              "array([[[0.63101874, 0.00180797, 0.76774288],\n",
              "        [0.49069695, 0.98915365, 0.85716773],\n",
              "        [0.3918193 , 0.14432949, 0.77388683],\n",
              "        [0.31184693, 0.67698505, 0.78333475],\n",
              "        [0.49481062, 0.64811667, 0.63471307]],\n",
              "\n",
              "       [[0.16552685, 0.45107396, 0.84353044],\n",
              "        [0.45003588, 0.88460929, 0.02693259],\n",
              "        [0.7780339 , 0.94507318, 0.18970292],\n",
              "        [0.97406576, 0.50005415, 0.12471979],\n",
              "        [0.09181386, 0.26396684, 0.65547901]]])"
            ]
          },
          "metadata": {
            "tags": []
          },
          "execution_count": 32
        }
      ]
    },
    {
      "cell_type": "code",
      "metadata": {
        "id": "1YY32Txn1ekI",
        "colab_type": "code",
        "colab": {
          "base_uri": "https://localhost:8080/",
          "height": 102
        },
        "outputId": "be655e54-6f1e-4138-8e04-b3e19e65fda0"
      },
      "source": [
        "np.random.uniform(2, 100, (5, 3))"
      ],
      "execution_count": 33,
      "outputs": [
        {
          "output_type": "execute_result",
          "data": {
            "text/plain": [
              "array([[96.50278534, 16.88843417, 98.91179866],\n",
              "       [21.56269028, 55.18062955, 74.75491611],\n",
              "       [38.2407778 , 36.38032722,  6.66775264],\n",
              "       [ 9.13470692, 82.33482427, 83.80719664],\n",
              "       [70.40094936, 16.35138575, 10.75785934]])"
            ]
          },
          "metadata": {
            "tags": []
          },
          "execution_count": 33
        }
      ]
    },
    {
      "cell_type": "code",
      "metadata": {
        "id": "WZkogQRb1ekK",
        "colab_type": "code",
        "colab": {
          "base_uri": "https://localhost:8080/",
          "height": 102
        },
        "outputId": "ed68376d-d96f-480e-eb14-e83a90cfb3f7"
      },
      "source": [
        "np.random.randint(2, 100, (5, 3))"
      ],
      "execution_count": 34,
      "outputs": [
        {
          "output_type": "execute_result",
          "data": {
            "text/plain": [
              "array([[78, 57, 32],\n",
              "       [95, 84, 75],\n",
              "       [29, 45, 48],\n",
              "       [96, 23,  6],\n",
              "       [71, 18, 91]])"
            ]
          },
          "metadata": {
            "tags": []
          },
          "execution_count": 34
        }
      ]
    },
    {
      "cell_type": "code",
      "metadata": {
        "id": "JpAgTVgw1ekN",
        "colab_type": "code",
        "colab": {
          "base_uri": "https://localhost:8080/",
          "height": 668
        },
        "outputId": "91b517d9-bbec-4bb0-b5fc-4fe0f0655dab"
      },
      "source": [
        "# 0. 生成数据\n",
        "x = np.random.uniform(2, 100, 1000000000)\n",
        "\n",
        "# 1.画布\n",
        "plt.figure(figsize=(20, 8), dpi=100)\n",
        "\n",
        "# 2.绘制\n",
        "plt.hist(x, 1000)\n",
        "\n",
        "# 3.显示\n",
        "plt.show()"
      ],
      "execution_count": 35,
      "outputs": [
        {
          "output_type": "display_data",
          "data": {
            "image/png": "[encoded data removed]",
            "text/plain": [
              "<Figure size 2000x800 with 1 Axes>"
            ]
          },
          "metadata": {
            "tags": []
          }
        }
      ]
    },
    {
      "cell_type": "code",
      "metadata": {
        "id": "P1nm5PQO1ekP",
        "colab_type": "code",
        "colab": {
          "base_uri": "https://localhost:8080/",
          "height": 668
        },
        "outputId": "c1473678-dd95-4f82-8555-cf1aa268345d"
      },
      "source": [
        "# 0. 生成数据\n",
        "x = np.random.uniform(2, 100, 100)\n",
        "\n",
        "# 1.画布\n",
        "plt.figure(figsize=(20, 8), dpi=100)\n",
        "\n",
        "# 2.绘制\n",
        "plt.hist(x, 10)\n",
        "\n",
        "# 3.显示\n",
        "plt.show()"
      ],
      "execution_count": 36,
      "outputs": [
        {
          "output_type": "display_data",
          "data": {
            "image/png": "[encoded data removed]",
            "text/plain": [
              "<Figure size 2000x800 with 1 Axes>"
            ]
          },
          "metadata": {
            "tags": []
          }
        }
      ]
    },
    {
      "cell_type": "markdown",
      "metadata": {
        "id": "kucVZ-VQ1ekR",
        "colab_type": "text"
      },
      "source": [
        "### 数组的索引、切片"
      ]
    },
    {
      "cell_type": "code",
      "metadata": {
        "id": "Sq3yRoLX1ekR",
        "colab_type": "code",
        "colab": {
          "base_uri": "https://localhost:8080/",
          "height": 153
        },
        "outputId": "a8357063-fcce-48bb-f171-bfe2cdec9534"
      },
      "source": [
        "stock_change = np.random.normal(0, 1, (4, 8))\n",
        "stock_change"
      ],
      "execution_count": 37,
      "outputs": [
        {
          "output_type": "execute_result",
          "data": {
            "text/plain": [
              "array([[-0.02458782,  0.45910682,  0.36636435, -0.49167523, -0.56736013,\n",
              "        -0.76464691,  0.12628062, -0.43322166],\n",
              "       [-0.11719271,  0.01775876,  0.04766546,  1.22173947, -0.358674  ,\n",
              "        -0.49677742,  0.38133548, -0.67405577],\n",
              "       [-2.31744415,  0.1773063 , -1.50615515, -1.63340817,  0.1461668 ,\n",
              "        -0.11169196, -0.04458322, -0.43886791],\n",
              "       [ 0.74566816,  0.90830221, -0.74792572,  0.47876042,  0.18265108,\n",
              "        -0.1453532 , -2.78409223,  0.54402961]])"
            ]
          },
          "metadata": {
            "tags": []
          },
          "execution_count": 37
        }
      ]
    },
    {
      "cell_type": "code",
      "metadata": {
        "id": "-oieJ5uL1ekU",
        "colab_type": "code",
        "colab": {
          "base_uri": "https://localhost:8080/",
          "height": 51
        },
        "outputId": "ab36d247-7d8a-44e0-8ab3-1f94c406e6e1"
      },
      "source": [
        "stock_change[0:2, 0:5]"
      ],
      "execution_count": 38,
      "outputs": [
        {
          "output_type": "execute_result",
          "data": {
            "text/plain": [
              "array([[-0.02458782,  0.45910682,  0.36636435, -0.49167523, -0.56736013],\n",
              "       [-0.11719271,  0.01775876,  0.04766546,  1.22173947, -0.358674  ]])"
            ]
          },
          "metadata": {
            "tags": []
          },
          "execution_count": 38
        }
      ]
    },
    {
      "cell_type": "code",
      "metadata": {
        "id": "Lvxv9A2C1ekX",
        "colab_type": "code",
        "colab": {
          "base_uri": "https://localhost:8080/",
          "height": 102
        },
        "outputId": "2c59bf22-4ee9-496b-b907-8a85e5cf332c"
      },
      "source": [
        "a = np.array([[[1, 5, 10],[3,4,5]],[[10, 50, 100],[30,40,50]]])\n",
        "a"
      ],
      "execution_count": 39,
      "outputs": [
        {
          "output_type": "execute_result",
          "data": {
            "text/plain": [
              "array([[[  1,   5,  10],\n",
              "        [  3,   4,   5]],\n",
              "\n",
              "       [[ 10,  50, 100],\n",
              "        [ 30,  40,  50]]])"
            ]
          },
          "metadata": {
            "tags": []
          },
          "execution_count": 39
        }
      ]
    },
    {
      "cell_type": "code",
      "metadata": {
        "id": "D2kLYAAU1ekb",
        "colab_type": "code",
        "colab": {
          "base_uri": "https://localhost:8080/",
          "height": 34
        },
        "outputId": "8f829675-5578-47f9-b02f-4f6323b09d9f"
      },
      "source": [
        "a[1, 0, 1]  # 50\n",
        "# a[1][0][1]  # 50\n",
        "# a[0, 1, 1]  # 4"
      ],
      "execution_count": 40,
      "outputs": [
        {
          "output_type": "execute_result",
          "data": {
            "text/plain": [
              "50"
            ]
          },
          "metadata": {
            "tags": []
          },
          "execution_count": 40
        }
      ]
    },
    {
      "cell_type": "markdown",
      "metadata": {
        "id": "f_CMh5fa1eke",
        "colab_type": "text"
      },
      "source": [
        "### 形状修改"
      ]
    },
    {
      "cell_type": "code",
      "metadata": {
        "id": "dt_G_MIy1ekf",
        "colab_type": "code",
        "colab": {
          "base_uri": "https://localhost:8080/",
          "height": 408
        },
        "outputId": "3e8a4f0d-312d-4864-851c-0baf3e119b08"
      },
      "source": [
        "data = np.random.randint(2, 10, (4, 5, 3))\n",
        "data"
      ],
      "execution_count": 41,
      "outputs": [
        {
          "output_type": "execute_result",
          "data": {
            "text/plain": [
              "array([[[6, 6, 9],\n",
              "        [7, 9, 3],\n",
              "        [7, 8, 2],\n",
              "        [9, 5, 2],\n",
              "        [8, 4, 4]],\n",
              "\n",
              "       [[4, 4, 4],\n",
              "        [8, 2, 8],\n",
              "        [2, 4, 9],\n",
              "        [3, 8, 6],\n",
              "        [6, 9, 3]],\n",
              "\n",
              "       [[2, 5, 9],\n",
              "        [6, 3, 3],\n",
              "        [4, 6, 3],\n",
              "        [8, 2, 9],\n",
              "        [5, 8, 2]],\n",
              "\n",
              "       [[3, 8, 2],\n",
              "        [9, 6, 8],\n",
              "        [5, 7, 7],\n",
              "        [7, 8, 6],\n",
              "        [2, 4, 9]]])"
            ]
          },
          "metadata": {
            "tags": []
          },
          "execution_count": 41
        }
      ]
    },
    {
      "cell_type": "code",
      "metadata": {
        "id": "nKUkqfUa1eki",
        "colab_type": "code",
        "colab": {
          "base_uri": "https://localhost:8080/",
          "height": 187
        },
        "outputId": "ba7f62ef-60de-40ac-d6a5-cbcbb4263e88"
      },
      "source": [
        "data.reshape([10,6])"
      ],
      "execution_count": 42,
      "outputs": [
        {
          "output_type": "execute_result",
          "data": {
            "text/plain": [
              "array([[6, 6, 9, 7, 9, 3],\n",
              "       [7, 8, 2, 9, 5, 2],\n",
              "       [8, 4, 4, 4, 4, 4],\n",
              "       [8, 2, 8, 2, 4, 9],\n",
              "       [3, 8, 6, 6, 9, 3],\n",
              "       [2, 5, 9, 6, 3, 3],\n",
              "       [4, 6, 3, 8, 2, 9],\n",
              "       [5, 8, 2, 3, 8, 2],\n",
              "       [9, 6, 8, 5, 7, 7],\n",
              "       [7, 8, 6, 2, 4, 9]])"
            ]
          },
          "metadata": {
            "tags": []
          },
          "execution_count": 42
        }
      ]
    },
    {
      "cell_type": "code",
      "metadata": {
        "id": "XPk4-Hcw1ekk",
        "colab_type": "code",
        "colab": {
          "base_uri": "https://localhost:8080/",
          "height": 680
        },
        "outputId": "7d769cad-2482-4457-8b80-c1f764fff2a8"
      },
      "source": [
        "data.reshape([-1, 3, 2])"
      ],
      "execution_count": 43,
      "outputs": [
        {
          "output_type": "execute_result",
          "data": {
            "text/plain": [
              "array([[[6, 6],\n",
              "        [9, 7],\n",
              "        [9, 3]],\n",
              "\n",
              "       [[7, 8],\n",
              "        [2, 9],\n",
              "        [5, 2]],\n",
              "\n",
              "       [[8, 4],\n",
              "        [4, 4],\n",
              "        [4, 4]],\n",
              "\n",
              "       [[8, 2],\n",
              "        [8, 2],\n",
              "        [4, 9]],\n",
              "\n",
              "       [[3, 8],\n",
              "        [6, 6],\n",
              "        [9, 3]],\n",
              "\n",
              "       [[2, 5],\n",
              "        [9, 6],\n",
              "        [3, 3]],\n",
              "\n",
              "       [[4, 6],\n",
              "        [3, 8],\n",
              "        [2, 9]],\n",
              "\n",
              "       [[5, 8],\n",
              "        [2, 3],\n",
              "        [8, 2]],\n",
              "\n",
              "       [[9, 6],\n",
              "        [8, 5],\n",
              "        [7, 7]],\n",
              "\n",
              "       [[7, 8],\n",
              "        [6, 2],\n",
              "        [4, 9]]])"
            ]
          },
          "metadata": {
            "tags": []
          },
          "execution_count": 43
        }
      ]
    },
    {
      "cell_type": "code",
      "metadata": {
        "id": "Su9ya5ro1ekn",
        "colab_type": "code",
        "colab": {
          "base_uri": "https://localhost:8080/",
          "height": 85
        },
        "outputId": "072d9fd5-1c39-4ae5-aeec-715d44361fb4"
      },
      "source": [
        "data = np.random.randint(2, 10, (4, 5))\n",
        "data"
      ],
      "execution_count": 44,
      "outputs": [
        {
          "output_type": "execute_result",
          "data": {
            "text/plain": [
              "array([[9, 3, 7, 8, 5],\n",
              "       [4, 9, 5, 2, 3],\n",
              "       [6, 2, 9, 7, 7],\n",
              "       [8, 8, 7, 8, 2]])"
            ]
          },
          "metadata": {
            "tags": []
          },
          "execution_count": 44
        }
      ]
    },
    {
      "cell_type": "code",
      "metadata": {
        "id": "bfzKMTTy1ekq",
        "colab_type": "code",
        "colab": {}
      },
      "source": [
        "data.resize(10, 2)"
      ],
      "execution_count": 0,
      "outputs": []
    },
    {
      "cell_type": "code",
      "metadata": {
        "id": "PgiLrUtf1eku",
        "colab_type": "code",
        "colab": {
          "base_uri": "https://localhost:8080/",
          "height": 187
        },
        "outputId": "383c6cec-a6a4-4c42-a736-f14a4571909e"
      },
      "source": [
        "data"
      ],
      "execution_count": 46,
      "outputs": [
        {
          "output_type": "execute_result",
          "data": {
            "text/plain": [
              "array([[9, 3],\n",
              "       [7, 8],\n",
              "       [5, 4],\n",
              "       [9, 5],\n",
              "       [2, 3],\n",
              "       [6, 2],\n",
              "       [9, 7],\n",
              "       [7, 8],\n",
              "       [8, 7],\n",
              "       [8, 2]])"
            ]
          },
          "metadata": {
            "tags": []
          },
          "execution_count": 46
        }
      ]
    },
    {
      "cell_type": "code",
      "metadata": {
        "id": "qqHXe1mL1ekx",
        "colab_type": "code",
        "colab": {
          "base_uri": "https://localhost:8080/",
          "height": 51
        },
        "outputId": "c0e12e60-75eb-4baa-d6e4-aec5266b40fd"
      },
      "source": [
        "data.T"
      ],
      "execution_count": 47,
      "outputs": [
        {
          "output_type": "execute_result",
          "data": {
            "text/plain": [
              "array([[9, 7, 5, 9, 2, 6, 9, 7, 8, 8],\n",
              "       [3, 8, 4, 5, 3, 2, 7, 8, 7, 2]])"
            ]
          },
          "metadata": {
            "tags": []
          },
          "execution_count": 47
        }
      ]
    },
    {
      "cell_type": "markdown",
      "metadata": {
        "id": "oPWDaPvp1ek2",
        "colab_type": "text"
      },
      "source": [
        "### 类型修改"
      ]
    },
    {
      "cell_type": "code",
      "metadata": {
        "id": "jOXJPXz51ek5",
        "colab_type": "code",
        "colab": {
          "base_uri": "https://localhost:8080/",
          "height": 153
        },
        "outputId": "41cc6364-a98c-43c5-8994-e82d5232f5a9"
      },
      "source": [
        "stock_change"
      ],
      "execution_count": 48,
      "outputs": [
        {
          "output_type": "execute_result",
          "data": {
            "text/plain": [
              "array([[-0.02458782,  0.45910682,  0.36636435, -0.49167523, -0.56736013,\n",
              "        -0.76464691,  0.12628062, -0.43322166],\n",
              "       [-0.11719271,  0.01775876,  0.04766546,  1.22173947, -0.358674  ,\n",
              "        -0.49677742,  0.38133548, -0.67405577],\n",
              "       [-2.31744415,  0.1773063 , -1.50615515, -1.63340817,  0.1461668 ,\n",
              "        -0.11169196, -0.04458322, -0.43886791],\n",
              "       [ 0.74566816,  0.90830221, -0.74792572,  0.47876042,  0.18265108,\n",
              "        -0.1453532 , -2.78409223,  0.54402961]])"
            ]
          },
          "metadata": {
            "tags": []
          },
          "execution_count": 48
        }
      ]
    },
    {
      "cell_type": "code",
      "metadata": {
        "id": "xoOIYHLw1ek9",
        "colab_type": "code",
        "colab": {
          "base_uri": "https://localhost:8080/",
          "height": 85
        },
        "outputId": "83e1771b-b8fe-449e-d4c4-5ed4ca1bb022"
      },
      "source": [
        "stock_change.astype(np.int32)"
      ],
      "execution_count": 49,
      "outputs": [
        {
          "output_type": "execute_result",
          "data": {
            "text/plain": [
              "array([[ 0,  0,  0,  0,  0,  0,  0,  0],\n",
              "       [ 0,  0,  0,  1,  0,  0,  0,  0],\n",
              "       [-2,  0, -1, -1,  0,  0,  0,  0],\n",
              "       [ 0,  0,  0,  0,  0,  0, -2,  0]], dtype=int32)"
            ]
          },
          "metadata": {
            "tags": []
          },
          "execution_count": 49
        }
      ]
    },
    {
      "cell_type": "code",
      "metadata": {
        "id": "bQEUX7tC1elA",
        "colab_type": "code",
        "colab": {}
      },
      "source": [
        "arr = np.array([[[1, 2, 3], [4, 5, 6]], [[12, 3, 34], [5, 6, 7]]])"
      ],
      "execution_count": 0,
      "outputs": []
    },
    {
      "cell_type": "code",
      "metadata": {
        "id": "v5RZ-RKU1elC",
        "colab_type": "code",
        "colab": {
          "base_uri": "https://localhost:8080/",
          "height": 54
        },
        "outputId": "128cc371-525a-4bd2-99d0-7258001f1b1d"
      },
      "source": [
        "arr.tostring()"
      ],
      "execution_count": 51,
      "outputs": [
        {
          "output_type": "execute_result",
          "data": {
            "text/plain": [
              "b'\\x01\\x00\\x00\\x00\\x00\\x00\\x00\\x00\\x02\\x00\\x00\\x00\\x00\\x00\\x00\\x00\\x03\\x00\\x00\\x00\\x00\\x00\\x00\\x00\\x04\\x00\\x00\\x00\\x00\\x00\\x00\\x00\\x05\\x00\\x00\\x00\\x00\\x00\\x00\\x00\\x06\\x00\\x00\\x00\\x00\\x00\\x00\\x00\\x0c\\x00\\x00\\x00\\x00\\x00\\x00\\x00\\x03\\x00\\x00\\x00\\x00\\x00\\x00\\x00\"\\x00\\x00\\x00\\x00\\x00\\x00\\x00\\x05\\x00\\x00\\x00\\x00\\x00\\x00\\x00\\x06\\x00\\x00\\x00\\x00\\x00\\x00\\x00\\x07\\x00\\x00\\x00\\x00\\x00\\x00\\x00'"
            ]
          },
          "metadata": {
            "tags": []
          },
          "execution_count": 51
        }
      ]
    },
    {
      "cell_type": "markdown",
      "metadata": {
        "id": "5PuD0l711elG",
        "colab_type": "text"
      },
      "source": [
        "### 数组去重"
      ]
    },
    {
      "cell_type": "code",
      "metadata": {
        "id": "1oy0rxeV1elG",
        "colab_type": "code",
        "colab": {
          "base_uri": "https://localhost:8080/",
          "height": 51
        },
        "outputId": "fa2836c2-57c3-4118-e30d-a726c9be354c"
      },
      "source": [
        "a = np.array([[1,2,3], [2,3,4]])\n",
        "a"
      ],
      "execution_count": 52,
      "outputs": [
        {
          "output_type": "execute_result",
          "data": {
            "text/plain": [
              "array([[1, 2, 3],\n",
              "       [2, 3, 4]])"
            ]
          },
          "metadata": {
            "tags": []
          },
          "execution_count": 52
        }
      ]
    },
    {
      "cell_type": "code",
      "metadata": {
        "id": "dPJDch071elI",
        "colab_type": "code",
        "colab": {
          "base_uri": "https://localhost:8080/",
          "height": 34
        },
        "outputId": "c7110802-583e-4b37-b473-40f8b6dce2a2"
      },
      "source": [
        "np.unique(a)"
      ],
      "execution_count": 53,
      "outputs": [
        {
          "output_type": "execute_result",
          "data": {
            "text/plain": [
              "array([1, 2, 3, 4])"
            ]
          },
          "metadata": {
            "tags": []
          },
          "execution_count": 53
        }
      ]
    },
    {
      "cell_type": "code",
      "metadata": {
        "id": "Awew89ZX1elJ",
        "colab_type": "code",
        "colab": {}
      },
      "source": [
        "a = np.array([[1,2,3], [2,3,4,5]])"
      ],
      "execution_count": 0,
      "outputs": []
    },
    {
      "cell_type": "code",
      "metadata": {
        "id": "Q-zLGNT31elL",
        "colab_type": "code",
        "colab": {
          "base_uri": "https://localhost:8080/",
          "height": 34
        },
        "outputId": "84bf5e88-d9a2-4f49-e742-c2ad4c1cee50"
      },
      "source": [
        "a"
      ],
      "execution_count": 55,
      "outputs": [
        {
          "output_type": "execute_result",
          "data": {
            "text/plain": [
              "array([list([1, 2, 3]), list([2, 3, 4, 5])], dtype=object)"
            ]
          },
          "metadata": {
            "tags": []
          },
          "execution_count": 55
        }
      ]
    },
    {
      "cell_type": "code",
      "metadata": {
        "id": "QF7m0oRj1elM",
        "colab_type": "code",
        "colab": {}
      },
      "source": [
        ""
      ],
      "execution_count": 0,
      "outputs": []
    }
  ]
}
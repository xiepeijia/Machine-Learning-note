{
  "nbformat": 4,
  "nbformat_minor": 0,
  "metadata": {
    "kernelspec": {
      "display_name": "Python 3",
      "language": "python",
      "name": "python3"
    },
    "language_info": {
      "codemirror_mode": {
        "name": "ipython",
        "version": 3
      },
      "file_extension": ".py",
      "mimetype": "text/x-python",
      "name": "python",
      "nbconvert_exporter": "python",
      "pygments_lexer": "ipython3",
      "version": "3.6.5"
    },
    "toc": {
      "base_numbering": 1,
      "nav_menu": {},
      "number_sections": true,
      "sideBar": true,
      "skip_h1_title": false,
      "title_cell": "Table of Contents",
      "title_sidebar": "Contents",
      "toc_cell": false,
      "toc_position": {},
      "toc_section_display": true,
      "toc_window_display": true
    },
    "colab": {
      "name": "pandas基本使用.ipynb",
      "version": "0.3.2",
      "provenance": [],
      "include_colab_link": true
    }
  },
  "cells": [
    {
      "cell_type": "markdown",
      "metadata": {
        "id": "view-in-github",
        "colab_type": "text"
      },
      "source": [
        "<a href=\"https://colab.research.google.com/github/xiepeijia/Machine-Learning-note/blob/master/pandas%E5%9F%BA%E6%9C%AC%E4%BD%BF%E7%94%A8.ipynb\" target=\"_parent\"><img src=\"https://colab.research.google.com/assets/colab-badge.svg\" alt=\"Open In Colab\"/></a>"
      ]
    },
    {
      "cell_type": "code",
      "metadata": {
        "id": "Cit2LunR62SL",
        "colab_type": "code",
        "colab": {}
      },
      "source": [
        "import pandas as pd\n",
        "import numpy as np"
      ],
      "execution_count": 0,
      "outputs": []
    },
    {
      "cell_type": "markdown",
      "metadata": {
        "id": "XoBRp-N862SQ",
        "colab_type": "text"
      },
      "source": [
        "# Series"
      ]
    },
    {
      "cell_type": "markdown",
      "metadata": {
        "id": "VQMDCX2Q62SR",
        "colab_type": "text"
      },
      "source": [
        "## 创建"
      ]
    },
    {
      "cell_type": "code",
      "metadata": {
        "id": "LAP-YUyU62SR",
        "colab_type": "code",
        "colab": {},
        "outputId": "6fc25e1d-b81b-40ae-a44b-cd72f003a2b6"
      },
      "source": [
        "pd.Series(np.arange(5))"
      ],
      "execution_count": 0,
      "outputs": [
        {
          "output_type": "execute_result",
          "data": {
            "text/plain": [
              "0    0\n",
              "1    1\n",
              "2    2\n",
              "3    3\n",
              "4    4\n",
              "dtype: int64"
            ]
          },
          "metadata": {
            "tags": []
          },
          "execution_count": 4
        }
      ]
    },
    {
      "cell_type": "code",
      "metadata": {
        "id": "rhL9mmOy62SW",
        "colab_type": "code",
        "colab": {},
        "outputId": "8edaf637-0005-42f8-c743-2bd29751fb5e"
      },
      "source": [
        "pd.Series(np.arange(5), index=[\"a\", \"b\", \"c\", \"d\", \"e\"])"
      ],
      "execution_count": 0,
      "outputs": [
        {
          "output_type": "execute_result",
          "data": {
            "text/plain": [
              "a    0\n",
              "b    1\n",
              "c    2\n",
              "d    3\n",
              "e    4\n",
              "dtype: int64"
            ]
          },
          "metadata": {
            "tags": []
          },
          "execution_count": 6
        }
      ]
    },
    {
      "cell_type": "code",
      "metadata": {
        "id": "dPHudWux62Sb",
        "colab_type": "code",
        "colab": {},
        "outputId": "ba202dfb-88a4-4387-c99c-48491e1f50d1"
      },
      "source": [
        "count = pd.Series({\"red\":100, \"blue\":200, \"green\":20})\n",
        "count"
      ],
      "execution_count": 0,
      "outputs": [
        {
          "output_type": "execute_result",
          "data": {
            "text/plain": [
              "blue     200\n",
              "green     20\n",
              "red      100\n",
              "dtype: int64"
            ]
          },
          "metadata": {
            "tags": []
          },
          "execution_count": 8
        }
      ]
    },
    {
      "cell_type": "markdown",
      "metadata": {
        "id": "ecqA4I1762Sd",
        "colab_type": "text"
      },
      "source": [
        "## 属性"
      ]
    },
    {
      "cell_type": "code",
      "metadata": {
        "id": "Xf2AMe6V62Se",
        "colab_type": "code",
        "colab": {},
        "outputId": "a7e9e02c-722c-47a1-9a66-cd3996efe0a8"
      },
      "source": [
        "count.index"
      ],
      "execution_count": 0,
      "outputs": [
        {
          "output_type": "execute_result",
          "data": {
            "text/plain": [
              "Index(['blue', 'green', 'red'], dtype='object')"
            ]
          },
          "metadata": {
            "tags": []
          },
          "execution_count": 10
        }
      ]
    },
    {
      "cell_type": "code",
      "metadata": {
        "id": "5Uruq_NB62Sg",
        "colab_type": "code",
        "colab": {},
        "outputId": "fff2f50a-2f8f-409f-a6c5-4a63a5aaa53a"
      },
      "source": [
        "count.values"
      ],
      "execution_count": 0,
      "outputs": [
        {
          "output_type": "execute_result",
          "data": {
            "text/plain": [
              "array([200,  20, 100])"
            ]
          },
          "metadata": {
            "tags": []
          },
          "execution_count": 11
        }
      ]
    },
    {
      "cell_type": "markdown",
      "metadata": {
        "id": "Dfg3KErW62Sk",
        "colab_type": "text"
      },
      "source": [
        "# DataFrame"
      ]
    },
    {
      "cell_type": "markdown",
      "metadata": {
        "id": "bJRXQYbt62Sl",
        "colab_type": "text"
      },
      "source": [
        "## 创建"
      ]
    },
    {
      "cell_type": "code",
      "metadata": {
        "id": "7UzILoxC62Sl",
        "colab_type": "code",
        "colab": {},
        "outputId": "33155ec4-b00d-4451-e3e0-17ca001ca9b0"
      },
      "source": [
        "pd.DataFrame(np.random.randint(2, 300, [3, 4]))"
      ],
      "execution_count": 0,
      "outputs": [
        {
          "output_type": "execute_result",
          "data": {
            "text/html": [
              "<div>\n",
              "<style>\n",
              "    .dataframe thead tr:only-child th {\n",
              "        text-align: right;\n",
              "    }\n",
              "\n",
              "    .dataframe thead th {\n",
              "        text-align: left;\n",
              "    }\n",
              "\n",
              "    .dataframe tbody tr th {\n",
              "        vertical-align: top;\n",
              "    }\n",
              "</style>\n",
              "<table border=\"1\" class=\"dataframe\">\n",
              "  <thead>\n",
              "    <tr style=\"text-align: right;\">\n",
              "      <th></th>\n",
              "      <th>0</th>\n",
              "      <th>1</th>\n",
              "      <th>2</th>\n",
              "      <th>3</th>\n",
              "    </tr>\n",
              "  </thead>\n",
              "  <tbody>\n",
              "    <tr>\n",
              "      <th>0</th>\n",
              "      <td>136</td>\n",
              "      <td>136</td>\n",
              "      <td>20</td>\n",
              "      <td>240</td>\n",
              "    </tr>\n",
              "    <tr>\n",
              "      <th>1</th>\n",
              "      <td>58</td>\n",
              "      <td>108</td>\n",
              "      <td>71</td>\n",
              "      <td>122</td>\n",
              "    </tr>\n",
              "    <tr>\n",
              "      <th>2</th>\n",
              "      <td>130</td>\n",
              "      <td>248</td>\n",
              "      <td>206</td>\n",
              "      <td>199</td>\n",
              "    </tr>\n",
              "  </tbody>\n",
              "</table>\n",
              "</div>"
            ],
            "text/plain": [
              "     0    1    2    3\n",
              "0  136  136   20  240\n",
              "1   58  108   71  122\n",
              "2  130  248  206  199"
            ]
          },
          "metadata": {
            "tags": []
          },
          "execution_count": 16
        }
      ]
    },
    {
      "cell_type": "code",
      "metadata": {
        "id": "CKs9WA0q62So",
        "colab_type": "code",
        "colab": {},
        "outputId": "50874a12-d756-48a1-9aa1-47711c030b0f"
      },
      "source": [
        "score = pd.DataFrame(np.random.randint(40, 100, [10, 5]))\n",
        "score"
      ],
      "execution_count": 0,
      "outputs": [
        {
          "output_type": "execute_result",
          "data": {
            "text/html": [
              "<div>\n",
              "<style>\n",
              "    .dataframe thead tr:only-child th {\n",
              "        text-align: right;\n",
              "    }\n",
              "\n",
              "    .dataframe thead th {\n",
              "        text-align: left;\n",
              "    }\n",
              "\n",
              "    .dataframe tbody tr th {\n",
              "        vertical-align: top;\n",
              "    }\n",
              "</style>\n",
              "<table border=\"1\" class=\"dataframe\">\n",
              "  <thead>\n",
              "    <tr style=\"text-align: right;\">\n",
              "      <th></th>\n",
              "      <th>0</th>\n",
              "      <th>1</th>\n",
              "      <th>2</th>\n",
              "      <th>3</th>\n",
              "      <th>4</th>\n",
              "    </tr>\n",
              "  </thead>\n",
              "  <tbody>\n",
              "    <tr>\n",
              "      <th>0</th>\n",
              "      <td>54</td>\n",
              "      <td>65</td>\n",
              "      <td>83</td>\n",
              "      <td>99</td>\n",
              "      <td>99</td>\n",
              "    </tr>\n",
              "    <tr>\n",
              "      <th>1</th>\n",
              "      <td>80</td>\n",
              "      <td>42</td>\n",
              "      <td>97</td>\n",
              "      <td>91</td>\n",
              "      <td>49</td>\n",
              "    </tr>\n",
              "    <tr>\n",
              "      <th>2</th>\n",
              "      <td>97</td>\n",
              "      <td>88</td>\n",
              "      <td>94</td>\n",
              "      <td>60</td>\n",
              "      <td>75</td>\n",
              "    </tr>\n",
              "    <tr>\n",
              "      <th>3</th>\n",
              "      <td>73</td>\n",
              "      <td>51</td>\n",
              "      <td>85</td>\n",
              "      <td>69</td>\n",
              "      <td>95</td>\n",
              "    </tr>\n",
              "    <tr>\n",
              "      <th>4</th>\n",
              "      <td>83</td>\n",
              "      <td>89</td>\n",
              "      <td>45</td>\n",
              "      <td>46</td>\n",
              "      <td>64</td>\n",
              "    </tr>\n",
              "    <tr>\n",
              "      <th>5</th>\n",
              "      <td>42</td>\n",
              "      <td>59</td>\n",
              "      <td>94</td>\n",
              "      <td>87</td>\n",
              "      <td>61</td>\n",
              "    </tr>\n",
              "    <tr>\n",
              "      <th>6</th>\n",
              "      <td>52</td>\n",
              "      <td>70</td>\n",
              "      <td>72</td>\n",
              "      <td>72</td>\n",
              "      <td>42</td>\n",
              "    </tr>\n",
              "    <tr>\n",
              "      <th>7</th>\n",
              "      <td>59</td>\n",
              "      <td>85</td>\n",
              "      <td>91</td>\n",
              "      <td>44</td>\n",
              "      <td>80</td>\n",
              "    </tr>\n",
              "    <tr>\n",
              "      <th>8</th>\n",
              "      <td>93</td>\n",
              "      <td>42</td>\n",
              "      <td>72</td>\n",
              "      <td>41</td>\n",
              "      <td>88</td>\n",
              "    </tr>\n",
              "    <tr>\n",
              "      <th>9</th>\n",
              "      <td>88</td>\n",
              "      <td>71</td>\n",
              "      <td>98</td>\n",
              "      <td>99</td>\n",
              "      <td>58</td>\n",
              "    </tr>\n",
              "  </tbody>\n",
              "</table>\n",
              "</div>"
            ],
            "text/plain": [
              "    0   1   2   3   4\n",
              "0  54  65  83  99  99\n",
              "1  80  42  97  91  49\n",
              "2  97  88  94  60  75\n",
              "3  73  51  85  69  95\n",
              "4  83  89  45  46  64\n",
              "5  42  59  94  87  61\n",
              "6  52  70  72  72  42\n",
              "7  59  85  91  44  80\n",
              "8  93  42  72  41  88\n",
              "9  88  71  98  99  58"
            ]
          },
          "metadata": {
            "tags": []
          },
          "execution_count": 17
        }
      ]
    },
    {
      "cell_type": "code",
      "metadata": {
        "id": "bnB9bKG962Sr",
        "colab_type": "code",
        "colab": {}
      },
      "source": [
        "# 构造行索引序列\n",
        "subjects = [\"语文\", \"数学\", \"英语\", \"政治\", \"体育\"]\n",
        "\n",
        "# 构造列索引\n",
        "stu = [\"同学\"+str(i) for i in range(score.shape[0])]\n",
        "\n",
        "# 添加索引\n",
        "score = pd.DataFrame(np.random.randint(40, 100, [10, 5]), index=stu, columns=subjects)"
      ],
      "execution_count": 0,
      "outputs": []
    },
    {
      "cell_type": "code",
      "metadata": {
        "id": "xlTdFUIu62Sw",
        "colab_type": "code",
        "colab": {},
        "outputId": "052af066-b65e-4b49-e471-c5a6ace1a898"
      },
      "source": [
        "score.shape[0]"
      ],
      "execution_count": 0,
      "outputs": [
        {
          "output_type": "execute_result",
          "data": {
            "text/plain": [
              "10"
            ]
          },
          "metadata": {
            "tags": []
          },
          "execution_count": 22
        }
      ]
    },
    {
      "cell_type": "code",
      "metadata": {
        "id": "WBVB9Mpf62Sz",
        "colab_type": "code",
        "colab": {},
        "outputId": "74abf898-0b00-46d7-a0e3-5fddcbd47dca"
      },
      "source": [
        "score"
      ],
      "execution_count": 0,
      "outputs": [
        {
          "output_type": "execute_result",
          "data": {
            "text/html": [
              "<div>\n",
              "<style>\n",
              "    .dataframe thead tr:only-child th {\n",
              "        text-align: right;\n",
              "    }\n",
              "\n",
              "    .dataframe thead th {\n",
              "        text-align: left;\n",
              "    }\n",
              "\n",
              "    .dataframe tbody tr th {\n",
              "        vertical-align: top;\n",
              "    }\n",
              "</style>\n",
              "<table border=\"1\" class=\"dataframe\">\n",
              "  <thead>\n",
              "    <tr style=\"text-align: right;\">\n",
              "      <th></th>\n",
              "      <th>语文</th>\n",
              "      <th>数学</th>\n",
              "      <th>英语</th>\n",
              "      <th>政治</th>\n",
              "      <th>体育</th>\n",
              "    </tr>\n",
              "  </thead>\n",
              "  <tbody>\n",
              "    <tr>\n",
              "      <th>同学0</th>\n",
              "      <td>54</td>\n",
              "      <td>99</td>\n",
              "      <td>40</td>\n",
              "      <td>41</td>\n",
              "      <td>92</td>\n",
              "    </tr>\n",
              "    <tr>\n",
              "      <th>同学1</th>\n",
              "      <td>51</td>\n",
              "      <td>94</td>\n",
              "      <td>63</td>\n",
              "      <td>93</td>\n",
              "      <td>62</td>\n",
              "    </tr>\n",
              "    <tr>\n",
              "      <th>同学2</th>\n",
              "      <td>79</td>\n",
              "      <td>62</td>\n",
              "      <td>75</td>\n",
              "      <td>89</td>\n",
              "      <td>99</td>\n",
              "    </tr>\n",
              "    <tr>\n",
              "      <th>同学3</th>\n",
              "      <td>53</td>\n",
              "      <td>75</td>\n",
              "      <td>84</td>\n",
              "      <td>91</td>\n",
              "      <td>40</td>\n",
              "    </tr>\n",
              "    <tr>\n",
              "      <th>同学4</th>\n",
              "      <td>41</td>\n",
              "      <td>59</td>\n",
              "      <td>73</td>\n",
              "      <td>51</td>\n",
              "      <td>90</td>\n",
              "    </tr>\n",
              "    <tr>\n",
              "      <th>同学5</th>\n",
              "      <td>80</td>\n",
              "      <td>65</td>\n",
              "      <td>91</td>\n",
              "      <td>97</td>\n",
              "      <td>89</td>\n",
              "    </tr>\n",
              "    <tr>\n",
              "      <th>同学6</th>\n",
              "      <td>42</td>\n",
              "      <td>62</td>\n",
              "      <td>88</td>\n",
              "      <td>70</td>\n",
              "      <td>94</td>\n",
              "    </tr>\n",
              "    <tr>\n",
              "      <th>同学7</th>\n",
              "      <td>67</td>\n",
              "      <td>85</td>\n",
              "      <td>92</td>\n",
              "      <td>63</td>\n",
              "      <td>81</td>\n",
              "    </tr>\n",
              "    <tr>\n",
              "      <th>同学8</th>\n",
              "      <td>98</td>\n",
              "      <td>82</td>\n",
              "      <td>81</td>\n",
              "      <td>76</td>\n",
              "      <td>54</td>\n",
              "    </tr>\n",
              "    <tr>\n",
              "      <th>同学9</th>\n",
              "      <td>97</td>\n",
              "      <td>72</td>\n",
              "      <td>66</td>\n",
              "      <td>58</td>\n",
              "      <td>76</td>\n",
              "    </tr>\n",
              "  </tbody>\n",
              "</table>\n",
              "</div>"
            ],
            "text/plain": [
              "     语文  数学  英语  政治  体育\n",
              "同学0  54  99  40  41  92\n",
              "同学1  51  94  63  93  62\n",
              "同学2  79  62  75  89  99\n",
              "同学3  53  75  84  91  40\n",
              "同学4  41  59  73  51  90\n",
              "同学5  80  65  91  97  89\n",
              "同学6  42  62  88  70  94\n",
              "同学7  67  85  92  63  81\n",
              "同学8  98  82  81  76  54\n",
              "同学9  97  72  66  58  76"
            ]
          },
          "metadata": {
            "tags": []
          },
          "execution_count": 24
        }
      ]
    },
    {
      "cell_type": "markdown",
      "metadata": {
        "id": "g-Fxrb1c62S1",
        "colab_type": "text"
      },
      "source": [
        "## 属性"
      ]
    },
    {
      "cell_type": "code",
      "metadata": {
        "id": "S-nlxRTO62S2",
        "colab_type": "code",
        "colab": {},
        "outputId": "bc1bb964-259c-4f19-c79a-6558a1943ecc"
      },
      "source": [
        "score.index"
      ],
      "execution_count": 0,
      "outputs": [
        {
          "output_type": "execute_result",
          "data": {
            "text/plain": [
              "Index(['同学0', '同学1', '同学2', '同学3', '同学4', '同学5', '同学6', '同学7', '同学8', '同学9'], dtype='object')"
            ]
          },
          "metadata": {
            "tags": []
          },
          "execution_count": 25
        }
      ]
    },
    {
      "cell_type": "code",
      "metadata": {
        "id": "Kbhi8DfU62S6",
        "colab_type": "code",
        "colab": {},
        "outputId": "58f377c2-a945-48f7-b411-1f721434fded"
      },
      "source": [
        "score.columns"
      ],
      "execution_count": 0,
      "outputs": [
        {
          "output_type": "execute_result",
          "data": {
            "text/plain": [
              "Index(['语文', '数学', '英语', '政治', '体育'], dtype='object')"
            ]
          },
          "metadata": {
            "tags": []
          },
          "execution_count": 27
        }
      ]
    },
    {
      "cell_type": "code",
      "metadata": {
        "id": "AVdikmQL62S8",
        "colab_type": "code",
        "colab": {},
        "outputId": "1b5b6f72-4d9e-42ea-94fe-ff55b599cb65"
      },
      "source": [
        "score.values"
      ],
      "execution_count": 0,
      "outputs": [
        {
          "output_type": "execute_result",
          "data": {
            "text/plain": [
              "array([[54, 99, 40, 41, 92],\n",
              "       [51, 94, 63, 93, 62],\n",
              "       [79, 62, 75, 89, 99],\n",
              "       [53, 75, 84, 91, 40],\n",
              "       [41, 59, 73, 51, 90],\n",
              "       [80, 65, 91, 97, 89],\n",
              "       [42, 62, 88, 70, 94],\n",
              "       [67, 85, 92, 63, 81],\n",
              "       [98, 82, 81, 76, 54],\n",
              "       [97, 72, 66, 58, 76]])"
            ]
          },
          "metadata": {
            "tags": []
          },
          "execution_count": 28
        }
      ]
    },
    {
      "cell_type": "code",
      "metadata": {
        "id": "bltspWdt62S_",
        "colab_type": "code",
        "colab": {},
        "outputId": "8d13f081-8709-4709-f57f-a3da7a782478"
      },
      "source": [
        "score.shape"
      ],
      "execution_count": 0,
      "outputs": [
        {
          "output_type": "execute_result",
          "data": {
            "text/plain": [
              "(10, 5)"
            ]
          },
          "metadata": {
            "tags": []
          },
          "execution_count": 29
        }
      ]
    },
    {
      "cell_type": "code",
      "metadata": {
        "id": "C1_oFP6p62TB",
        "colab_type": "code",
        "colab": {},
        "outputId": "727649e9-628d-4d25-bc2f-71c2f0fa1666"
      },
      "source": [
        "score.T"
      ],
      "execution_count": 0,
      "outputs": [
        {
          "output_type": "execute_result",
          "data": {
            "text/html": [
              "<div>\n",
              "<style>\n",
              "    .dataframe thead tr:only-child th {\n",
              "        text-align: right;\n",
              "    }\n",
              "\n",
              "    .dataframe thead th {\n",
              "        text-align: left;\n",
              "    }\n",
              "\n",
              "    .dataframe tbody tr th {\n",
              "        vertical-align: top;\n",
              "    }\n",
              "</style>\n",
              "<table border=\"1\" class=\"dataframe\">\n",
              "  <thead>\n",
              "    <tr style=\"text-align: right;\">\n",
              "      <th></th>\n",
              "      <th>同学0</th>\n",
              "      <th>同学1</th>\n",
              "      <th>同学2</th>\n",
              "      <th>同学3</th>\n",
              "      <th>同学4</th>\n",
              "      <th>同学5</th>\n",
              "      <th>同学6</th>\n",
              "      <th>同学7</th>\n",
              "      <th>同学8</th>\n",
              "      <th>同学9</th>\n",
              "    </tr>\n",
              "  </thead>\n",
              "  <tbody>\n",
              "    <tr>\n",
              "      <th>语文</th>\n",
              "      <td>54</td>\n",
              "      <td>51</td>\n",
              "      <td>79</td>\n",
              "      <td>53</td>\n",
              "      <td>41</td>\n",
              "      <td>80</td>\n",
              "      <td>42</td>\n",
              "      <td>67</td>\n",
              "      <td>98</td>\n",
              "      <td>97</td>\n",
              "    </tr>\n",
              "    <tr>\n",
              "      <th>数学</th>\n",
              "      <td>99</td>\n",
              "      <td>94</td>\n",
              "      <td>62</td>\n",
              "      <td>75</td>\n",
              "      <td>59</td>\n",
              "      <td>65</td>\n",
              "      <td>62</td>\n",
              "      <td>85</td>\n",
              "      <td>82</td>\n",
              "      <td>72</td>\n",
              "    </tr>\n",
              "    <tr>\n",
              "      <th>英语</th>\n",
              "      <td>40</td>\n",
              "      <td>63</td>\n",
              "      <td>75</td>\n",
              "      <td>84</td>\n",
              "      <td>73</td>\n",
              "      <td>91</td>\n",
              "      <td>88</td>\n",
              "      <td>92</td>\n",
              "      <td>81</td>\n",
              "      <td>66</td>\n",
              "    </tr>\n",
              "    <tr>\n",
              "      <th>政治</th>\n",
              "      <td>41</td>\n",
              "      <td>93</td>\n",
              "      <td>89</td>\n",
              "      <td>91</td>\n",
              "      <td>51</td>\n",
              "      <td>97</td>\n",
              "      <td>70</td>\n",
              "      <td>63</td>\n",
              "      <td>76</td>\n",
              "      <td>58</td>\n",
              "    </tr>\n",
              "    <tr>\n",
              "      <th>体育</th>\n",
              "      <td>92</td>\n",
              "      <td>62</td>\n",
              "      <td>99</td>\n",
              "      <td>40</td>\n",
              "      <td>90</td>\n",
              "      <td>89</td>\n",
              "      <td>94</td>\n",
              "      <td>81</td>\n",
              "      <td>54</td>\n",
              "      <td>76</td>\n",
              "    </tr>\n",
              "  </tbody>\n",
              "</table>\n",
              "</div>"
            ],
            "text/plain": [
              "    同学0  同学1  同学2  同学3  同学4  同学5  同学6  同学7  同学8  同学9\n",
              "语文   54   51   79   53   41   80   42   67   98   97\n",
              "数学   99   94   62   75   59   65   62   85   82   72\n",
              "英语   40   63   75   84   73   91   88   92   81   66\n",
              "政治   41   93   89   91   51   97   70   63   76   58\n",
              "体育   92   62   99   40   90   89   94   81   54   76"
            ]
          },
          "metadata": {
            "tags": []
          },
          "execution_count": 30
        }
      ]
    },
    {
      "cell_type": "code",
      "metadata": {
        "id": "uHq8wRwu62TE",
        "colab_type": "code",
        "colab": {},
        "outputId": "7b903812-af8d-4f90-b393-7f056bfeed8f"
      },
      "source": [
        "score.head(4)"
      ],
      "execution_count": 0,
      "outputs": [
        {
          "output_type": "execute_result",
          "data": {
            "text/html": [
              "<div>\n",
              "<style>\n",
              "    .dataframe thead tr:only-child th {\n",
              "        text-align: right;\n",
              "    }\n",
              "\n",
              "    .dataframe thead th {\n",
              "        text-align: left;\n",
              "    }\n",
              "\n",
              "    .dataframe tbody tr th {\n",
              "        vertical-align: top;\n",
              "    }\n",
              "</style>\n",
              "<table border=\"1\" class=\"dataframe\">\n",
              "  <thead>\n",
              "    <tr style=\"text-align: right;\">\n",
              "      <th></th>\n",
              "      <th>语文</th>\n",
              "      <th>数学</th>\n",
              "      <th>英语</th>\n",
              "      <th>政治</th>\n",
              "      <th>体育</th>\n",
              "    </tr>\n",
              "  </thead>\n",
              "  <tbody>\n",
              "    <tr>\n",
              "      <th>同学0</th>\n",
              "      <td>54</td>\n",
              "      <td>99</td>\n",
              "      <td>40</td>\n",
              "      <td>41</td>\n",
              "      <td>92</td>\n",
              "    </tr>\n",
              "    <tr>\n",
              "      <th>同学1</th>\n",
              "      <td>51</td>\n",
              "      <td>94</td>\n",
              "      <td>63</td>\n",
              "      <td>93</td>\n",
              "      <td>62</td>\n",
              "    </tr>\n",
              "    <tr>\n",
              "      <th>同学2</th>\n",
              "      <td>79</td>\n",
              "      <td>62</td>\n",
              "      <td>75</td>\n",
              "      <td>89</td>\n",
              "      <td>99</td>\n",
              "    </tr>\n",
              "    <tr>\n",
              "      <th>同学3</th>\n",
              "      <td>53</td>\n",
              "      <td>75</td>\n",
              "      <td>84</td>\n",
              "      <td>91</td>\n",
              "      <td>40</td>\n",
              "    </tr>\n",
              "  </tbody>\n",
              "</table>\n",
              "</div>"
            ],
            "text/plain": [
              "     语文  数学  英语  政治  体育\n",
              "同学0  54  99  40  41  92\n",
              "同学1  51  94  63  93  62\n",
              "同学2  79  62  75  89  99\n",
              "同学3  53  75  84  91  40"
            ]
          },
          "metadata": {
            "tags": []
          },
          "execution_count": 31
        }
      ]
    },
    {
      "cell_type": "code",
      "metadata": {
        "id": "gbGifIHR62TI",
        "colab_type": "code",
        "colab": {},
        "outputId": "c4f8ba72-337d-4674-cc07-6c12026a1584"
      },
      "source": [
        "score.tail()"
      ],
      "execution_count": 0,
      "outputs": [
        {
          "output_type": "execute_result",
          "data": {
            "text/html": [
              "<div>\n",
              "<style>\n",
              "    .dataframe thead tr:only-child th {\n",
              "        text-align: right;\n",
              "    }\n",
              "\n",
              "    .dataframe thead th {\n",
              "        text-align: left;\n",
              "    }\n",
              "\n",
              "    .dataframe tbody tr th {\n",
              "        vertical-align: top;\n",
              "    }\n",
              "</style>\n",
              "<table border=\"1\" class=\"dataframe\">\n",
              "  <thead>\n",
              "    <tr style=\"text-align: right;\">\n",
              "      <th></th>\n",
              "      <th>语文</th>\n",
              "      <th>数学</th>\n",
              "      <th>英语</th>\n",
              "      <th>政治</th>\n",
              "      <th>体育</th>\n",
              "    </tr>\n",
              "  </thead>\n",
              "  <tbody>\n",
              "    <tr>\n",
              "      <th>同学5</th>\n",
              "      <td>80</td>\n",
              "      <td>65</td>\n",
              "      <td>91</td>\n",
              "      <td>97</td>\n",
              "      <td>89</td>\n",
              "    </tr>\n",
              "    <tr>\n",
              "      <th>同学6</th>\n",
              "      <td>42</td>\n",
              "      <td>62</td>\n",
              "      <td>88</td>\n",
              "      <td>70</td>\n",
              "      <td>94</td>\n",
              "    </tr>\n",
              "    <tr>\n",
              "      <th>同学7</th>\n",
              "      <td>67</td>\n",
              "      <td>85</td>\n",
              "      <td>92</td>\n",
              "      <td>63</td>\n",
              "      <td>81</td>\n",
              "    </tr>\n",
              "    <tr>\n",
              "      <th>同学8</th>\n",
              "      <td>98</td>\n",
              "      <td>82</td>\n",
              "      <td>81</td>\n",
              "      <td>76</td>\n",
              "      <td>54</td>\n",
              "    </tr>\n",
              "    <tr>\n",
              "      <th>同学9</th>\n",
              "      <td>97</td>\n",
              "      <td>72</td>\n",
              "      <td>66</td>\n",
              "      <td>58</td>\n",
              "      <td>76</td>\n",
              "    </tr>\n",
              "  </tbody>\n",
              "</table>\n",
              "</div>"
            ],
            "text/plain": [
              "     语文  数学  英语  政治  体育\n",
              "同学5  80  65  91  97  89\n",
              "同学6  42  62  88  70  94\n",
              "同学7  67  85  92  63  81\n",
              "同学8  98  82  81  76  54\n",
              "同学9  97  72  66  58  76"
            ]
          },
          "metadata": {
            "tags": []
          },
          "execution_count": 32
        }
      ]
    },
    {
      "cell_type": "code",
      "metadata": {
        "id": "nYyPe7XO62TM",
        "colab_type": "code",
        "colab": {},
        "outputId": "ea330ef2-fe2b-4221-bc35-6e6224d5d629"
      },
      "source": [
        "score.head()"
      ],
      "execution_count": 0,
      "outputs": [
        {
          "output_type": "execute_result",
          "data": {
            "text/html": [
              "<div>\n",
              "<style>\n",
              "    .dataframe thead tr:only-child th {\n",
              "        text-align: right;\n",
              "    }\n",
              "\n",
              "    .dataframe thead th {\n",
              "        text-align: left;\n",
              "    }\n",
              "\n",
              "    .dataframe tbody tr th {\n",
              "        vertical-align: top;\n",
              "    }\n",
              "</style>\n",
              "<table border=\"1\" class=\"dataframe\">\n",
              "  <thead>\n",
              "    <tr style=\"text-align: right;\">\n",
              "      <th></th>\n",
              "      <th>语文</th>\n",
              "      <th>数学</th>\n",
              "      <th>英语</th>\n",
              "      <th>政治</th>\n",
              "      <th>体育</th>\n",
              "    </tr>\n",
              "  </thead>\n",
              "  <tbody>\n",
              "    <tr>\n",
              "      <th>同学0</th>\n",
              "      <td>54</td>\n",
              "      <td>99</td>\n",
              "      <td>40</td>\n",
              "      <td>41</td>\n",
              "      <td>92</td>\n",
              "    </tr>\n",
              "    <tr>\n",
              "      <th>同学1</th>\n",
              "      <td>51</td>\n",
              "      <td>94</td>\n",
              "      <td>63</td>\n",
              "      <td>93</td>\n",
              "      <td>62</td>\n",
              "    </tr>\n",
              "    <tr>\n",
              "      <th>同学2</th>\n",
              "      <td>79</td>\n",
              "      <td>62</td>\n",
              "      <td>75</td>\n",
              "      <td>89</td>\n",
              "      <td>99</td>\n",
              "    </tr>\n",
              "    <tr>\n",
              "      <th>同学3</th>\n",
              "      <td>53</td>\n",
              "      <td>75</td>\n",
              "      <td>84</td>\n",
              "      <td>91</td>\n",
              "      <td>40</td>\n",
              "    </tr>\n",
              "    <tr>\n",
              "      <th>同学4</th>\n",
              "      <td>41</td>\n",
              "      <td>59</td>\n",
              "      <td>73</td>\n",
              "      <td>51</td>\n",
              "      <td>90</td>\n",
              "    </tr>\n",
              "  </tbody>\n",
              "</table>\n",
              "</div>"
            ],
            "text/plain": [
              "     语文  数学  英语  政治  体育\n",
              "同学0  54  99  40  41  92\n",
              "同学1  51  94  63  93  62\n",
              "同学2  79  62  75  89  99\n",
              "同学3  53  75  84  91  40\n",
              "同学4  41  59  73  51  90"
            ]
          },
          "metadata": {
            "tags": []
          },
          "execution_count": 33
        }
      ]
    },
    {
      "cell_type": "markdown",
      "metadata": {
        "id": "5m6nxuqo62TR",
        "colab_type": "text"
      },
      "source": [
        "## 修改索引"
      ]
    },
    {
      "cell_type": "code",
      "metadata": {
        "id": "P7OXVVP162TS",
        "colab_type": "code",
        "colab": {}
      },
      "source": [
        "# 构造列索引\n",
        "stu = [\"同学__\"+str(i) for i in range(score.shape[0])]\n",
        "\n",
        "score.index = stu"
      ],
      "execution_count": 0,
      "outputs": []
    },
    {
      "cell_type": "code",
      "metadata": {
        "id": "XVJ5yC7362TW",
        "colab_type": "code",
        "colab": {},
        "outputId": "7efd223c-ddc0-4a92-88fd-c9a836acc3ec"
      },
      "source": [
        "score"
      ],
      "execution_count": 0,
      "outputs": [
        {
          "output_type": "execute_result",
          "data": {
            "text/html": [
              "<div>\n",
              "<style>\n",
              "    .dataframe thead tr:only-child th {\n",
              "        text-align: right;\n",
              "    }\n",
              "\n",
              "    .dataframe thead th {\n",
              "        text-align: left;\n",
              "    }\n",
              "\n",
              "    .dataframe tbody tr th {\n",
              "        vertical-align: top;\n",
              "    }\n",
              "</style>\n",
              "<table border=\"1\" class=\"dataframe\">\n",
              "  <thead>\n",
              "    <tr style=\"text-align: right;\">\n",
              "      <th></th>\n",
              "      <th>语文</th>\n",
              "      <th>数学</th>\n",
              "      <th>英语</th>\n",
              "      <th>政治</th>\n",
              "      <th>体育</th>\n",
              "    </tr>\n",
              "  </thead>\n",
              "  <tbody>\n",
              "    <tr>\n",
              "      <th>同学__0</th>\n",
              "      <td>54</td>\n",
              "      <td>99</td>\n",
              "      <td>40</td>\n",
              "      <td>41</td>\n",
              "      <td>92</td>\n",
              "    </tr>\n",
              "    <tr>\n",
              "      <th>同学__1</th>\n",
              "      <td>51</td>\n",
              "      <td>94</td>\n",
              "      <td>63</td>\n",
              "      <td>93</td>\n",
              "      <td>62</td>\n",
              "    </tr>\n",
              "    <tr>\n",
              "      <th>同学__2</th>\n",
              "      <td>79</td>\n",
              "      <td>62</td>\n",
              "      <td>75</td>\n",
              "      <td>89</td>\n",
              "      <td>99</td>\n",
              "    </tr>\n",
              "    <tr>\n",
              "      <th>同学__3</th>\n",
              "      <td>53</td>\n",
              "      <td>75</td>\n",
              "      <td>84</td>\n",
              "      <td>91</td>\n",
              "      <td>40</td>\n",
              "    </tr>\n",
              "    <tr>\n",
              "      <th>同学__4</th>\n",
              "      <td>41</td>\n",
              "      <td>59</td>\n",
              "      <td>73</td>\n",
              "      <td>51</td>\n",
              "      <td>90</td>\n",
              "    </tr>\n",
              "    <tr>\n",
              "      <th>同学__5</th>\n",
              "      <td>80</td>\n",
              "      <td>65</td>\n",
              "      <td>91</td>\n",
              "      <td>97</td>\n",
              "      <td>89</td>\n",
              "    </tr>\n",
              "    <tr>\n",
              "      <th>同学__6</th>\n",
              "      <td>42</td>\n",
              "      <td>62</td>\n",
              "      <td>88</td>\n",
              "      <td>70</td>\n",
              "      <td>94</td>\n",
              "    </tr>\n",
              "    <tr>\n",
              "      <th>同学__7</th>\n",
              "      <td>67</td>\n",
              "      <td>85</td>\n",
              "      <td>92</td>\n",
              "      <td>63</td>\n",
              "      <td>81</td>\n",
              "    </tr>\n",
              "    <tr>\n",
              "      <th>同学__8</th>\n",
              "      <td>98</td>\n",
              "      <td>82</td>\n",
              "      <td>81</td>\n",
              "      <td>76</td>\n",
              "      <td>54</td>\n",
              "    </tr>\n",
              "    <tr>\n",
              "      <th>同学__9</th>\n",
              "      <td>97</td>\n",
              "      <td>72</td>\n",
              "      <td>66</td>\n",
              "      <td>58</td>\n",
              "      <td>76</td>\n",
              "    </tr>\n",
              "  </tbody>\n",
              "</table>\n",
              "</div>"
            ],
            "text/plain": [
              "       语文  数学  英语  政治  体育\n",
              "同学__0  54  99  40  41  92\n",
              "同学__1  51  94  63  93  62\n",
              "同学__2  79  62  75  89  99\n",
              "同学__3  53  75  84  91  40\n",
              "同学__4  41  59  73  51  90\n",
              "同学__5  80  65  91  97  89\n",
              "同学__6  42  62  88  70  94\n",
              "同学__7  67  85  92  63  81\n",
              "同学__8  98  82  81  76  54\n",
              "同学__9  97  72  66  58  76"
            ]
          },
          "metadata": {
            "tags": []
          },
          "execution_count": 36
        }
      ]
    },
    {
      "cell_type": "code",
      "metadata": {
        "id": "EYJv5cw362TZ",
        "colab_type": "code",
        "colab": {}
      },
      "source": [
        "# score.index[2] = '同学++2'  # 索引值的修改,不支持单个值"
      ],
      "execution_count": 0,
      "outputs": []
    },
    {
      "cell_type": "markdown",
      "metadata": {
        "id": "weB528qI62Tc",
        "colab_type": "text"
      },
      "source": [
        "## 重设索引"
      ]
    },
    {
      "cell_type": "code",
      "metadata": {
        "id": "fkPkKK8962Td",
        "colab_type": "code",
        "colab": {},
        "outputId": "2da9e38b-6fa3-48b0-c166-9fd2131aaa82"
      },
      "source": [
        "score.reset_index(drop=True)"
      ],
      "execution_count": 0,
      "outputs": [
        {
          "output_type": "execute_result",
          "data": {
            "text/html": [
              "<div>\n",
              "<style>\n",
              "    .dataframe thead tr:only-child th {\n",
              "        text-align: right;\n",
              "    }\n",
              "\n",
              "    .dataframe thead th {\n",
              "        text-align: left;\n",
              "    }\n",
              "\n",
              "    .dataframe tbody tr th {\n",
              "        vertical-align: top;\n",
              "    }\n",
              "</style>\n",
              "<table border=\"1\" class=\"dataframe\">\n",
              "  <thead>\n",
              "    <tr style=\"text-align: right;\">\n",
              "      <th></th>\n",
              "      <th>语文</th>\n",
              "      <th>数学</th>\n",
              "      <th>英语</th>\n",
              "      <th>政治</th>\n",
              "      <th>体育</th>\n",
              "    </tr>\n",
              "  </thead>\n",
              "  <tbody>\n",
              "    <tr>\n",
              "      <th>0</th>\n",
              "      <td>54</td>\n",
              "      <td>99</td>\n",
              "      <td>40</td>\n",
              "      <td>41</td>\n",
              "      <td>92</td>\n",
              "    </tr>\n",
              "    <tr>\n",
              "      <th>1</th>\n",
              "      <td>51</td>\n",
              "      <td>94</td>\n",
              "      <td>63</td>\n",
              "      <td>93</td>\n",
              "      <td>62</td>\n",
              "    </tr>\n",
              "    <tr>\n",
              "      <th>2</th>\n",
              "      <td>79</td>\n",
              "      <td>62</td>\n",
              "      <td>75</td>\n",
              "      <td>89</td>\n",
              "      <td>99</td>\n",
              "    </tr>\n",
              "    <tr>\n",
              "      <th>3</th>\n",
              "      <td>53</td>\n",
              "      <td>75</td>\n",
              "      <td>84</td>\n",
              "      <td>91</td>\n",
              "      <td>40</td>\n",
              "    </tr>\n",
              "    <tr>\n",
              "      <th>4</th>\n",
              "      <td>41</td>\n",
              "      <td>59</td>\n",
              "      <td>73</td>\n",
              "      <td>51</td>\n",
              "      <td>90</td>\n",
              "    </tr>\n",
              "    <tr>\n",
              "      <th>5</th>\n",
              "      <td>80</td>\n",
              "      <td>65</td>\n",
              "      <td>91</td>\n",
              "      <td>97</td>\n",
              "      <td>89</td>\n",
              "    </tr>\n",
              "    <tr>\n",
              "      <th>6</th>\n",
              "      <td>42</td>\n",
              "      <td>62</td>\n",
              "      <td>88</td>\n",
              "      <td>70</td>\n",
              "      <td>94</td>\n",
              "    </tr>\n",
              "    <tr>\n",
              "      <th>7</th>\n",
              "      <td>67</td>\n",
              "      <td>85</td>\n",
              "      <td>92</td>\n",
              "      <td>63</td>\n",
              "      <td>81</td>\n",
              "    </tr>\n",
              "    <tr>\n",
              "      <th>8</th>\n",
              "      <td>98</td>\n",
              "      <td>82</td>\n",
              "      <td>81</td>\n",
              "      <td>76</td>\n",
              "      <td>54</td>\n",
              "    </tr>\n",
              "    <tr>\n",
              "      <th>9</th>\n",
              "      <td>97</td>\n",
              "      <td>72</td>\n",
              "      <td>66</td>\n",
              "      <td>58</td>\n",
              "      <td>76</td>\n",
              "    </tr>\n",
              "  </tbody>\n",
              "</table>\n",
              "</div>"
            ],
            "text/plain": [
              "   语文  数学  英语  政治  体育\n",
              "0  54  99  40  41  92\n",
              "1  51  94  63  93  62\n",
              "2  79  62  75  89  99\n",
              "3  53  75  84  91  40\n",
              "4  41  59  73  51  90\n",
              "5  80  65  91  97  89\n",
              "6  42  62  88  70  94\n",
              "7  67  85  92  63  81\n",
              "8  98  82  81  76  54\n",
              "9  97  72  66  58  76"
            ]
          },
          "metadata": {
            "tags": []
          },
          "execution_count": 41
        }
      ]
    },
    {
      "cell_type": "markdown",
      "metadata": {
        "id": "cYEvkoRj62Th",
        "colab_type": "text"
      },
      "source": [
        "## 以某列值为新的索引"
      ]
    },
    {
      "cell_type": "code",
      "metadata": {
        "id": "4uVtscMJ62Ti",
        "colab_type": "code",
        "colab": {}
      },
      "source": [
        "df = pd.DataFrame({'month': [1, 4, 7, 10],\n",
        "                    'year': [2012, 2014, 2013, 2014],\n",
        "                    'sale':[55, 40, 84, 31]})"
      ],
      "execution_count": 0,
      "outputs": []
    },
    {
      "cell_type": "code",
      "metadata": {
        "id": "Chdcc6pi62Tl",
        "colab_type": "code",
        "colab": {},
        "outputId": "bb495277-d606-4cef-f3e3-67a5b981ccef"
      },
      "source": [
        "df"
      ],
      "execution_count": 0,
      "outputs": [
        {
          "output_type": "execute_result",
          "data": {
            "text/html": [
              "<div>\n",
              "<style>\n",
              "    .dataframe thead tr:only-child th {\n",
              "        text-align: right;\n",
              "    }\n",
              "\n",
              "    .dataframe thead th {\n",
              "        text-align: left;\n",
              "    }\n",
              "\n",
              "    .dataframe tbody tr th {\n",
              "        vertical-align: top;\n",
              "    }\n",
              "</style>\n",
              "<table border=\"1\" class=\"dataframe\">\n",
              "  <thead>\n",
              "    <tr style=\"text-align: right;\">\n",
              "      <th></th>\n",
              "      <th>month</th>\n",
              "      <th>sale</th>\n",
              "      <th>year</th>\n",
              "    </tr>\n",
              "  </thead>\n",
              "  <tbody>\n",
              "    <tr>\n",
              "      <th>0</th>\n",
              "      <td>1</td>\n",
              "      <td>55</td>\n",
              "      <td>2012</td>\n",
              "    </tr>\n",
              "    <tr>\n",
              "      <th>1</th>\n",
              "      <td>4</td>\n",
              "      <td>40</td>\n",
              "      <td>2014</td>\n",
              "    </tr>\n",
              "    <tr>\n",
              "      <th>2</th>\n",
              "      <td>7</td>\n",
              "      <td>84</td>\n",
              "      <td>2013</td>\n",
              "    </tr>\n",
              "    <tr>\n",
              "      <th>3</th>\n",
              "      <td>10</td>\n",
              "      <td>31</td>\n",
              "      <td>2014</td>\n",
              "    </tr>\n",
              "  </tbody>\n",
              "</table>\n",
              "</div>"
            ],
            "text/plain": [
              "   month  sale  year\n",
              "0      1    55  2012\n",
              "1      4    40  2014\n",
              "2      7    84  2013\n",
              "3     10    31  2014"
            ]
          },
          "metadata": {
            "tags": []
          },
          "execution_count": 43
        }
      ]
    },
    {
      "cell_type": "code",
      "metadata": {
        "id": "zmFsCrwz62Tp",
        "colab_type": "code",
        "colab": {},
        "outputId": "3115b7b7-9c3a-421c-9d82-91022f15498f"
      },
      "source": [
        "df.set_index(\"year\")"
      ],
      "execution_count": 0,
      "outputs": [
        {
          "output_type": "execute_result",
          "data": {
            "text/html": [
              "<div>\n",
              "<style>\n",
              "    .dataframe thead tr:only-child th {\n",
              "        text-align: right;\n",
              "    }\n",
              "\n",
              "    .dataframe thead th {\n",
              "        text-align: left;\n",
              "    }\n",
              "\n",
              "    .dataframe tbody tr th {\n",
              "        vertical-align: top;\n",
              "    }\n",
              "</style>\n",
              "<table border=\"1\" class=\"dataframe\">\n",
              "  <thead>\n",
              "    <tr style=\"text-align: right;\">\n",
              "      <th></th>\n",
              "      <th>month</th>\n",
              "      <th>sale</th>\n",
              "    </tr>\n",
              "    <tr>\n",
              "      <th>year</th>\n",
              "      <th></th>\n",
              "      <th></th>\n",
              "    </tr>\n",
              "  </thead>\n",
              "  <tbody>\n",
              "    <tr>\n",
              "      <th>2012</th>\n",
              "      <td>1</td>\n",
              "      <td>55</td>\n",
              "    </tr>\n",
              "    <tr>\n",
              "      <th>2014</th>\n",
              "      <td>4</td>\n",
              "      <td>40</td>\n",
              "    </tr>\n",
              "    <tr>\n",
              "      <th>2013</th>\n",
              "      <td>7</td>\n",
              "      <td>84</td>\n",
              "    </tr>\n",
              "    <tr>\n",
              "      <th>2014</th>\n",
              "      <td>10</td>\n",
              "      <td>31</td>\n",
              "    </tr>\n",
              "  </tbody>\n",
              "</table>\n",
              "</div>"
            ],
            "text/plain": [
              "      month  sale\n",
              "year             \n",
              "2012      1    55\n",
              "2014      4    40\n",
              "2013      7    84\n",
              "2014     10    31"
            ]
          },
          "metadata": {
            "tags": []
          },
          "execution_count": 44
        }
      ]
    },
    {
      "cell_type": "code",
      "metadata": {
        "id": "qvlGfgpa62Tr",
        "colab_type": "code",
        "colab": {},
        "outputId": "7d4eeee8-02b4-4337-9edd-a0fde4991140"
      },
      "source": [
        "mi = df.set_index([\"year\", \"month\"])\n",
        "mi"
      ],
      "execution_count": 0,
      "outputs": [
        {
          "output_type": "execute_result",
          "data": {
            "text/html": [
              "<div>\n",
              "<style>\n",
              "    .dataframe thead tr:only-child th {\n",
              "        text-align: right;\n",
              "    }\n",
              "\n",
              "    .dataframe thead th {\n",
              "        text-align: left;\n",
              "    }\n",
              "\n",
              "    .dataframe tbody tr th {\n",
              "        vertical-align: top;\n",
              "    }\n",
              "</style>\n",
              "<table border=\"1\" class=\"dataframe\">\n",
              "  <thead>\n",
              "    <tr style=\"text-align: right;\">\n",
              "      <th></th>\n",
              "      <th></th>\n",
              "      <th>sale</th>\n",
              "    </tr>\n",
              "    <tr>\n",
              "      <th>year</th>\n",
              "      <th>month</th>\n",
              "      <th></th>\n",
              "    </tr>\n",
              "  </thead>\n",
              "  <tbody>\n",
              "    <tr>\n",
              "      <th>2012</th>\n",
              "      <th>1</th>\n",
              "      <td>55</td>\n",
              "    </tr>\n",
              "    <tr>\n",
              "      <th>2014</th>\n",
              "      <th>4</th>\n",
              "      <td>40</td>\n",
              "    </tr>\n",
              "    <tr>\n",
              "      <th>2013</th>\n",
              "      <th>7</th>\n",
              "      <td>84</td>\n",
              "    </tr>\n",
              "    <tr>\n",
              "      <th>2014</th>\n",
              "      <th>10</th>\n",
              "      <td>31</td>\n",
              "    </tr>\n",
              "  </tbody>\n",
              "</table>\n",
              "</div>"
            ],
            "text/plain": [
              "            sale\n",
              "year month      \n",
              "2012 1        55\n",
              "2014 4        40\n",
              "2013 7        84\n",
              "2014 10       31"
            ]
          },
          "metadata": {
            "tags": []
          },
          "execution_count": 47
        }
      ]
    },
    {
      "cell_type": "markdown",
      "metadata": {
        "id": "g4jeIwto62Tu",
        "colab_type": "text"
      },
      "source": [
        "# MultiIndex(panel)"
      ]
    },
    {
      "cell_type": "markdown",
      "metadata": {
        "id": "LpiVugtY62Tv",
        "colab_type": "text"
      },
      "source": [
        "## 属性"
      ]
    },
    {
      "cell_type": "code",
      "metadata": {
        "id": "LceWHxZO62Tv",
        "colab_type": "code",
        "colab": {},
        "outputId": "58ce56ab-453c-43ce-f544-80d3e919c2b1"
      },
      "source": [
        "mi.index"
      ],
      "execution_count": 0,
      "outputs": [
        {
          "output_type": "execute_result",
          "data": {
            "text/plain": [
              "MultiIndex(levels=[[2012, 2013, 2014], [1, 4, 7, 10]],\n",
              "           labels=[[0, 2, 1, 2], [0, 1, 2, 3]],\n",
              "           names=['year', 'month'])"
            ]
          },
          "metadata": {
            "tags": []
          },
          "execution_count": 51
        }
      ]
    },
    {
      "cell_type": "code",
      "metadata": {
        "id": "tZQxlbpU62T0",
        "colab_type": "code",
        "colab": {},
        "outputId": "c6b87ccf-0a54-49f0-8574-0d548596552b"
      },
      "source": [
        "mi.index.names"
      ],
      "execution_count": 0,
      "outputs": [
        {
          "output_type": "execute_result",
          "data": {
            "text/plain": [
              "FrozenList(['year', 'month'])"
            ]
          },
          "metadata": {
            "tags": []
          },
          "execution_count": 49
        }
      ]
    },
    {
      "cell_type": "markdown",
      "metadata": {
        "id": "mm4M_CiL62T5",
        "colab_type": "text"
      },
      "source": [
        "## 创建"
      ]
    },
    {
      "cell_type": "code",
      "metadata": {
        "id": "rkpmtnVc62T8",
        "colab_type": "code",
        "colab": {},
        "outputId": "2ad48982-bf8a-4b80-c5c9-abafe77f0e79"
      },
      "source": [
        "arrays = [[1, 1, 2, 2], ['red', 'blue', 'red', 'blue']]\n",
        "pd.MultiIndex.from_arrays(arrays, names=('number', 'color'))"
      ],
      "execution_count": 0,
      "outputs": [
        {
          "output_type": "execute_result",
          "data": {
            "text/plain": [
              "MultiIndex(levels=[[1, 2], ['blue', 'red']],\n",
              "           labels=[[0, 0, 1, 1], [1, 0, 1, 0]],\n",
              "           names=['number', 'color'])"
            ]
          },
          "metadata": {
            "tags": []
          },
          "execution_count": 52
        }
      ]
    },
    {
      "cell_type": "markdown",
      "metadata": {
        "id": "yLmcorgm62T_",
        "colab_type": "text"
      },
      "source": [
        "## panel"
      ]
    },
    {
      "cell_type": "code",
      "metadata": {
        "id": "kYPJNArc62UA",
        "colab_type": "code",
        "colab": {}
      },
      "source": [
        "p = pd.Panel(data=np.arange(24).reshape(4,3,2),\n",
        "                 items=list('ABCD'),\n",
        "                 major_axis=pd.date_range('20130101', periods=3),\n",
        "                 minor_axis=['first', 'second'])"
      ],
      "execution_count": 0,
      "outputs": []
    },
    {
      "cell_type": "code",
      "metadata": {
        "id": "xrIUjJaO62UO",
        "colab_type": "code",
        "colab": {},
        "outputId": "37eeacfb-f29c-485f-b799-2c7bcddc652b"
      },
      "source": [
        "data=np.arange(24).reshape(4,3,2)\n",
        "data"
      ],
      "execution_count": 0,
      "outputs": [
        {
          "output_type": "execute_result",
          "data": {
            "text/plain": [
              "array([[[ 0,  1],\n",
              "        [ 2,  3],\n",
              "        [ 4,  5]],\n",
              "\n",
              "       [[ 6,  7],\n",
              "        [ 8,  9],\n",
              "        [10, 11]],\n",
              "\n",
              "       [[12, 13],\n",
              "        [14, 15],\n",
              "        [16, 17]],\n",
              "\n",
              "       [[18, 19],\n",
              "        [20, 21],\n",
              "        [22, 23]]])"
            ]
          },
          "metadata": {
            "tags": []
          },
          "execution_count": 54
        }
      ]
    },
    {
      "cell_type": "code",
      "metadata": {
        "id": "wpqPsdQg62UR",
        "colab_type": "code",
        "colab": {},
        "outputId": "5c3601c4-a8b8-4ce6-d212-ce61f562e4ce"
      },
      "source": [
        "p"
      ],
      "execution_count": 0,
      "outputs": [
        {
          "output_type": "execute_result",
          "data": {
            "text/plain": [
              "<class 'pandas.core.panel.Panel'>\n",
              "Dimensions: 4 (items) x 3 (major_axis) x 2 (minor_axis)\n",
              "Items axis: A to D\n",
              "Major_axis axis: 2013-01-01 00:00:00 to 2013-01-03 00:00:00\n",
              "Minor_axis axis: first to second"
            ]
          },
          "metadata": {
            "tags": []
          },
          "execution_count": 56
        }
      ]
    },
    {
      "cell_type": "code",
      "metadata": {
        "id": "b6ADqqta62UT",
        "colab_type": "code",
        "colab": {},
        "outputId": "3a049bfb-1258-401c-e4bd-2740daf7a79c"
      },
      "source": [
        "p[\"A\", :, :]"
      ],
      "execution_count": 0,
      "outputs": [
        {
          "output_type": "execute_result",
          "data": {
            "text/html": [
              "<div>\n",
              "<style>\n",
              "    .dataframe thead tr:only-child th {\n",
              "        text-align: right;\n",
              "    }\n",
              "\n",
              "    .dataframe thead th {\n",
              "        text-align: left;\n",
              "    }\n",
              "\n",
              "    .dataframe tbody tr th {\n",
              "        vertical-align: top;\n",
              "    }\n",
              "</style>\n",
              "<table border=\"1\" class=\"dataframe\">\n",
              "  <thead>\n",
              "    <tr style=\"text-align: right;\">\n",
              "      <th></th>\n",
              "      <th>first</th>\n",
              "      <th>second</th>\n",
              "    </tr>\n",
              "  </thead>\n",
              "  <tbody>\n",
              "    <tr>\n",
              "      <th>2013-01-01</th>\n",
              "      <td>0</td>\n",
              "      <td>1</td>\n",
              "    </tr>\n",
              "    <tr>\n",
              "      <th>2013-01-02</th>\n",
              "      <td>2</td>\n",
              "      <td>3</td>\n",
              "    </tr>\n",
              "    <tr>\n",
              "      <th>2013-01-03</th>\n",
              "      <td>4</td>\n",
              "      <td>5</td>\n",
              "    </tr>\n",
              "  </tbody>\n",
              "</table>\n",
              "</div>"
            ],
            "text/plain": [
              "            first  second\n",
              "2013-01-01      0       1\n",
              "2013-01-02      2       3\n",
              "2013-01-03      4       5"
            ]
          },
          "metadata": {
            "tags": []
          },
          "execution_count": 57
        }
      ]
    },
    {
      "cell_type": "code",
      "metadata": {
        "id": "SNIvI10j62UW",
        "colab_type": "code",
        "colab": {},
        "outputId": "d1995e12-5f3e-4401-9477-f4a14ac77b7f"
      },
      "source": [
        "p[\"A\":\"C\", \"20130102\", :]"
      ],
      "execution_count": 0,
      "outputs": [
        {
          "output_type": "execute_result",
          "data": {
            "text/html": [
              "<div>\n",
              "<style>\n",
              "    .dataframe thead tr:only-child th {\n",
              "        text-align: right;\n",
              "    }\n",
              "\n",
              "    .dataframe thead th {\n",
              "        text-align: left;\n",
              "    }\n",
              "\n",
              "    .dataframe tbody tr th {\n",
              "        vertical-align: top;\n",
              "    }\n",
              "</style>\n",
              "<table border=\"1\" class=\"dataframe\">\n",
              "  <thead>\n",
              "    <tr style=\"text-align: right;\">\n",
              "      <th></th>\n",
              "      <th>A</th>\n",
              "      <th>B</th>\n",
              "      <th>C</th>\n",
              "    </tr>\n",
              "  </thead>\n",
              "  <tbody>\n",
              "    <tr>\n",
              "      <th>first</th>\n",
              "      <td>2</td>\n",
              "      <td>8</td>\n",
              "      <td>14</td>\n",
              "    </tr>\n",
              "    <tr>\n",
              "      <th>second</th>\n",
              "      <td>3</td>\n",
              "      <td>9</td>\n",
              "      <td>15</td>\n",
              "    </tr>\n",
              "  </tbody>\n",
              "</table>\n",
              "</div>"
            ],
            "text/plain": [
              "        A  B   C\n",
              "first   2  8  14\n",
              "second  3  9  15"
            ]
          },
          "metadata": {
            "tags": []
          },
          "execution_count": 58
        }
      ]
    },
    {
      "cell_type": "code",
      "metadata": {
        "id": "xfib9DRj62Ua",
        "colab_type": "code",
        "colab": {}
      },
      "source": [
        ""
      ],
      "execution_count": 0,
      "outputs": []
    }
  ]
}
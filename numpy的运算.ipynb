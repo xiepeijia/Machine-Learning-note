{
  "nbformat": 4,
  "nbformat_minor": 0,
  "metadata": {
    "kernelspec": {
      "display_name": "Python 3",
      "language": "python",
      "name": "python3"
    },
    "language_info": {
      "codemirror_mode": {
        "name": "ipython",
        "version": 3
      },
      "file_extension": ".py",
      "mimetype": "text/x-python",
      "name": "python",
      "nbconvert_exporter": "python",
      "pygments_lexer": "ipython3",
      "version": "3.6.5"
    },
    "toc": {
      "base_numbering": 1,
      "nav_menu": {},
      "number_sections": true,
      "sideBar": true,
      "skip_h1_title": false,
      "title_cell": "Table of Contents",
      "title_sidebar": "Contents",
      "toc_cell": false,
      "toc_position": {},
      "toc_section_display": true,
      "toc_window_display": true
    },
    "colab": {
      "name": "numpy的运算.ipynb",
      "version": "0.3.2",
      "provenance": [],
      "include_colab_link": true
    }
  },
  "cells": [
    {
      "cell_type": "markdown",
      "metadata": {
        "id": "view-in-github",
        "colab_type": "text"
      },
      "source": [
        "<a href=\"https://colab.research.google.com/github/xiepeijia/Machine-Learning-note/blob/master/numpy%E7%9A%84%E8%BF%90%E7%AE%97.ipynb\" target=\"_parent\"><img src=\"https://colab.research.google.com/assets/colab-badge.svg\" alt=\"Open In Colab\"/></a>"
      ]
    },
    {
      "cell_type": "code",
      "metadata": {
        "id": "ALpaeoQb3os4",
        "colab_type": "code",
        "colab": {}
      },
      "source": [
        "import numpy as np"
      ],
      "execution_count": 0,
      "outputs": []
    },
    {
      "cell_type": "markdown",
      "metadata": {
        "id": "LFgH1aOM3os8",
        "colab_type": "text"
      },
      "source": [
        "# 逻辑运算"
      ]
    },
    {
      "cell_type": "code",
      "metadata": {
        "id": "-I58Socm3os8",
        "colab_type": "code",
        "colab": {
          "base_uri": "https://localhost:8080/",
          "height": 187
        },
        "outputId": "1a91a5c7-5267-414f-89a4-452dd771e4af"
      },
      "source": [
        "score = np.random.randint(40, 100, (10, 5))\n",
        "score"
      ],
      "execution_count": 2,
      "outputs": [
        {
          "output_type": "execute_result",
          "data": {
            "text/plain": [
              "array([[53, 92, 46, 63, 99],\n",
              "       [73, 48, 78, 97, 83],\n",
              "       [83, 77, 61, 60, 94],\n",
              "       [86, 49, 98, 60, 81],\n",
              "       [40, 89, 87, 70, 45],\n",
              "       [45, 66, 95, 88, 97],\n",
              "       [43, 85, 87, 51, 61],\n",
              "       [99, 83, 45, 53, 94],\n",
              "       [85, 53, 95, 74, 83],\n",
              "       [68, 62, 59, 79, 53]])"
            ]
          },
          "metadata": {
            "tags": []
          },
          "execution_count": 2
        }
      ]
    },
    {
      "cell_type": "code",
      "metadata": {
        "id": "cXd872I63otA",
        "colab_type": "code",
        "colab": {}
      },
      "source": [
        "test_score = score[:4, :]"
      ],
      "execution_count": 0,
      "outputs": []
    },
    {
      "cell_type": "code",
      "metadata": {
        "id": "Frgrclvo3otD",
        "colab_type": "code",
        "colab": {
          "base_uri": "https://localhost:8080/",
          "height": 85
        },
        "outputId": "0e938b11-b0b6-4f9e-8a3a-6cc8b74db663"
      },
      "source": [
        "test_score"
      ],
      "execution_count": 4,
      "outputs": [
        {
          "output_type": "execute_result",
          "data": {
            "text/plain": [
              "array([[53, 92, 46, 63, 99],\n",
              "       [73, 48, 78, 97, 83],\n",
              "       [83, 77, 61, 60, 94],\n",
              "       [86, 49, 98, 60, 81]])"
            ]
          },
          "metadata": {
            "tags": []
          },
          "execution_count": 4
        }
      ]
    },
    {
      "cell_type": "code",
      "metadata": {
        "id": "ZHhIs40k3otG",
        "colab_type": "code",
        "colab": {
          "base_uri": "https://localhost:8080/",
          "height": 85
        },
        "outputId": "9b83bc35-2d0a-4dd0-f77f-6bd68161f582"
      },
      "source": [
        "test_score > 60"
      ],
      "execution_count": 5,
      "outputs": [
        {
          "output_type": "execute_result",
          "data": {
            "text/plain": [
              "array([[False,  True, False,  True,  True],\n",
              "       [ True, False,  True,  True,  True],\n",
              "       [ True,  True,  True, False,  True],\n",
              "       [ True, False,  True, False,  True]])"
            ]
          },
          "metadata": {
            "tags": []
          },
          "execution_count": 5
        }
      ]
    },
    {
      "cell_type": "code",
      "metadata": {
        "id": "4RaJMY-r3otJ",
        "colab_type": "code",
        "colab": {}
      },
      "source": [
        "a = [1,2,3,3]"
      ],
      "execution_count": 0,
      "outputs": []
    },
    {
      "cell_type": "code",
      "metadata": {
        "id": "ds-_CJrq3otM",
        "colab_type": "code",
        "colab": {}
      },
      "source": [
        "# a > 2  # 不可以"
      ],
      "execution_count": 0,
      "outputs": []
    },
    {
      "cell_type": "code",
      "metadata": {
        "id": "PVj-vLpx3otO",
        "colab_type": "code",
        "colab": {}
      },
      "source": [
        "# a + 2  # 不可以"
      ],
      "execution_count": 0,
      "outputs": []
    },
    {
      "cell_type": "code",
      "metadata": {
        "id": "r-pcJ3Q13otQ",
        "colab_type": "code",
        "colab": {
          "base_uri": "https://localhost:8080/",
          "height": 34
        },
        "outputId": "e4f09585-c437-4269-aee1-5495fea2a547"
      },
      "source": [
        "a * 2"
      ],
      "execution_count": 9,
      "outputs": [
        {
          "output_type": "execute_result",
          "data": {
            "text/plain": [
              "[1, 2, 3, 3, 1, 2, 3, 3]"
            ]
          },
          "metadata": {
            "tags": []
          },
          "execution_count": 9
        }
      ]
    },
    {
      "cell_type": "code",
      "metadata": {
        "id": "Kra5lRFq3otT",
        "colab_type": "code",
        "colab": {}
      },
      "source": [
        "test_score[test_score > 60] = 100"
      ],
      "execution_count": 0,
      "outputs": []
    },
    {
      "cell_type": "code",
      "metadata": {
        "id": "HxK2IEJN3otW",
        "colab_type": "code",
        "colab": {
          "base_uri": "https://localhost:8080/",
          "height": 85
        },
        "outputId": "86327384-4610-4233-8d7f-9673017809f0"
      },
      "source": [
        "test_score"
      ],
      "execution_count": 11,
      "outputs": [
        {
          "output_type": "execute_result",
          "data": {
            "text/plain": [
              "array([[ 53, 100,  46, 100, 100],\n",
              "       [100,  48, 100, 100, 100],\n",
              "       [100, 100, 100,  60, 100],\n",
              "       [100,  49, 100,  60, 100]])"
            ]
          },
          "metadata": {
            "tags": []
          },
          "execution_count": 11
        }
      ]
    },
    {
      "cell_type": "markdown",
      "metadata": {
        "id": "PhFKVJE63otZ",
        "colab_type": "text"
      },
      "source": [
        "# 通用判断函数"
      ]
    },
    {
      "cell_type": "code",
      "metadata": {
        "id": "xb_Qpr2m3ota",
        "colab_type": "code",
        "colab": {
          "base_uri": "https://localhost:8080/",
          "height": 68
        },
        "outputId": "a4e9050d-2b17-4ba8-92e0-d4cc249e16d3"
      },
      "source": [
        "test_score2 = score[7:, :]\n",
        "test_score2"
      ],
      "execution_count": 12,
      "outputs": [
        {
          "output_type": "execute_result",
          "data": {
            "text/plain": [
              "array([[99, 83, 45, 53, 94],\n",
              "       [85, 53, 95, 74, 83],\n",
              "       [68, 62, 59, 79, 53]])"
            ]
          },
          "metadata": {
            "tags": []
          },
          "execution_count": 12
        }
      ]
    },
    {
      "cell_type": "code",
      "metadata": {
        "id": "9A-6kC0O3otc",
        "colab_type": "code",
        "colab": {
          "base_uri": "https://localhost:8080/",
          "height": 34
        },
        "outputId": "e7f95767-fb90-4319-f469-9319a906f2e0"
      },
      "source": [
        "np.all(test_score2> 60)"
      ],
      "execution_count": 13,
      "outputs": [
        {
          "output_type": "execute_result",
          "data": {
            "text/plain": [
              "False"
            ]
          },
          "metadata": {
            "tags": []
          },
          "execution_count": 13
        }
      ]
    },
    {
      "cell_type": "code",
      "metadata": {
        "id": "j_PouX8c3ote",
        "colab_type": "code",
        "colab": {
          "base_uri": "https://localhost:8080/",
          "height": 34
        },
        "outputId": "e59e8f0e-c2b2-4708-9a32-ca434d48b8f4"
      },
      "source": [
        "np.any(test_score2> 60)"
      ],
      "execution_count": 14,
      "outputs": [
        {
          "output_type": "execute_result",
          "data": {
            "text/plain": [
              "True"
            ]
          },
          "metadata": {
            "tags": []
          },
          "execution_count": 14
        }
      ]
    },
    {
      "cell_type": "markdown",
      "metadata": {
        "id": "HerYDbAU3oth",
        "colab_type": "text"
      },
      "source": [
        "# np.where（三元运算符）"
      ]
    },
    {
      "cell_type": "code",
      "metadata": {
        "id": "WQ15SfY13oth",
        "colab_type": "code",
        "colab": {
          "base_uri": "https://localhost:8080/",
          "height": 68
        },
        "outputId": "efff9bbc-786d-4063-a0d6-b4a72e3807a3"
      },
      "source": [
        "test_score2"
      ],
      "execution_count": 15,
      "outputs": [
        {
          "output_type": "execute_result",
          "data": {
            "text/plain": [
              "array([[99, 83, 45, 53, 94],\n",
              "       [85, 53, 95, 74, 83],\n",
              "       [68, 62, 59, 79, 53]])"
            ]
          },
          "metadata": {
            "tags": []
          },
          "execution_count": 15
        }
      ]
    },
    {
      "cell_type": "code",
      "metadata": {
        "id": "kVnQY2iL3otk",
        "colab_type": "code",
        "colab": {
          "base_uri": "https://localhost:8080/",
          "height": 68
        },
        "outputId": "97ab2367-7780-42e9-ae68-88be43249c6f"
      },
      "source": [
        "np.where(test_score2 > 60, 1, 0)"
      ],
      "execution_count": 16,
      "outputs": [
        {
          "output_type": "execute_result",
          "data": {
            "text/plain": [
              "array([[1, 1, 0, 0, 1],\n",
              "       [1, 0, 1, 1, 1],\n",
              "       [1, 1, 0, 1, 0]])"
            ]
          },
          "metadata": {
            "tags": []
          },
          "execution_count": 16
        }
      ]
    },
    {
      "cell_type": "code",
      "metadata": {
        "id": "sJGTSXiS3otm",
        "colab_type": "code",
        "colab": {
          "base_uri": "https://localhost:8080/",
          "height": 68
        },
        "outputId": "d13c99ff-ae38-4f13-b635-9019a24a3be3"
      },
      "source": [
        "np.where(np.logical_and(test_score2 > 60, test_score2 < 90), 1, 0)"
      ],
      "execution_count": 17,
      "outputs": [
        {
          "output_type": "execute_result",
          "data": {
            "text/plain": [
              "array([[0, 1, 0, 0, 0],\n",
              "       [1, 0, 0, 1, 1],\n",
              "       [1, 1, 0, 1, 0]])"
            ]
          },
          "metadata": {
            "tags": []
          },
          "execution_count": 17
        }
      ]
    },
    {
      "cell_type": "code",
      "metadata": {
        "id": "WsoZgYxH3oto",
        "colab_type": "code",
        "colab": {
          "base_uri": "https://localhost:8080/",
          "height": 68
        },
        "outputId": "ed4222e3-b9a8-468b-b0b0-9d423f82f2a8"
      },
      "source": [
        "np.where(np.logical_or(test_score2 < 60, test_score2 > 90), 1, 0)"
      ],
      "execution_count": 18,
      "outputs": [
        {
          "output_type": "execute_result",
          "data": {
            "text/plain": [
              "array([[1, 0, 1, 1, 1],\n",
              "       [0, 1, 1, 0, 0],\n",
              "       [0, 0, 1, 0, 1]])"
            ]
          },
          "metadata": {
            "tags": []
          },
          "execution_count": 18
        }
      ]
    },
    {
      "cell_type": "markdown",
      "metadata": {
        "id": "UziShmzG3otr",
        "colab_type": "text"
      },
      "source": [
        "# 统计运算"
      ]
    },
    {
      "cell_type": "code",
      "metadata": {
        "id": "foi1UQEN3ots",
        "colab_type": "code",
        "colab": {
          "base_uri": "https://localhost:8080/",
          "height": 68
        },
        "outputId": "680d2dcf-b665-410b-af47-097255e49723"
      },
      "source": [
        "test_score2"
      ],
      "execution_count": 19,
      "outputs": [
        {
          "output_type": "execute_result",
          "data": {
            "text/plain": [
              "array([[99, 83, 45, 53, 94],\n",
              "       [85, 53, 95, 74, 83],\n",
              "       [68, 62, 59, 79, 53]])"
            ]
          },
          "metadata": {
            "tags": []
          },
          "execution_count": 19
        }
      ]
    },
    {
      "cell_type": "code",
      "metadata": {
        "id": "TTzVz7I43otw",
        "colab_type": "code",
        "colab": {
          "base_uri": "https://localhost:8080/",
          "height": 34
        },
        "outputId": "3d4de455-9f54-488f-8eda-47e64c506f79"
      },
      "source": [
        "np.max(test_score2, axis=0)"
      ],
      "execution_count": 20,
      "outputs": [
        {
          "output_type": "execute_result",
          "data": {
            "text/plain": [
              "array([99, 83, 95, 79, 94])"
            ]
          },
          "metadata": {
            "tags": []
          },
          "execution_count": 20
        }
      ]
    },
    {
      "cell_type": "code",
      "metadata": {
        "id": "d6WQirXO3ot3",
        "colab_type": "code",
        "colab": {
          "base_uri": "https://localhost:8080/",
          "height": 34
        },
        "outputId": "e877cba9-a013-4ed1-81da-262b8f12280a"
      },
      "source": [
        "np.max(test_score2, axis=1)"
      ],
      "execution_count": 21,
      "outputs": [
        {
          "output_type": "execute_result",
          "data": {
            "text/plain": [
              "array([99, 95, 79])"
            ]
          },
          "metadata": {
            "tags": []
          },
          "execution_count": 21
        }
      ]
    },
    {
      "cell_type": "code",
      "metadata": {
        "id": "xguxafvt3ot7",
        "colab_type": "code",
        "colab": {
          "base_uri": "https://localhost:8080/",
          "height": 34
        },
        "outputId": "7415db36-3f06-4586-ff88-0f2b7ecb7747"
      },
      "source": [
        "np.min(test_score2, axis=1)"
      ],
      "execution_count": 22,
      "outputs": [
        {
          "output_type": "execute_result",
          "data": {
            "text/plain": [
              "array([45, 53, 53])"
            ]
          },
          "metadata": {
            "tags": []
          },
          "execution_count": 22
        }
      ]
    },
    {
      "cell_type": "code",
      "metadata": {
        "id": "egFsr5pQ3ot9",
        "colab_type": "code",
        "colab": {
          "base_uri": "https://localhost:8080/",
          "height": 68
        },
        "outputId": "95aeca9c-7da8-4b52-a16d-04c5c38539d2"
      },
      "source": [
        "test_score2"
      ],
      "execution_count": 23,
      "outputs": [
        {
          "output_type": "execute_result",
          "data": {
            "text/plain": [
              "array([[99, 83, 45, 53, 94],\n",
              "       [85, 53, 95, 74, 83],\n",
              "       [68, 62, 59, 79, 53]])"
            ]
          },
          "metadata": {
            "tags": []
          },
          "execution_count": 23
        }
      ]
    },
    {
      "cell_type": "code",
      "metadata": {
        "id": "fr3SQf-L3ot_",
        "colab_type": "code",
        "colab": {
          "base_uri": "https://localhost:8080/",
          "height": 34
        },
        "outputId": "4273fcda-e35d-4afc-cf81-e3a1de8e270c"
      },
      "source": [
        "np.argmax(test_score2, axis=0)"
      ],
      "execution_count": 24,
      "outputs": [
        {
          "output_type": "execute_result",
          "data": {
            "text/plain": [
              "array([0, 0, 1, 2, 0])"
            ]
          },
          "metadata": {
            "tags": []
          },
          "execution_count": 24
        }
      ]
    },
    {
      "cell_type": "code",
      "metadata": {
        "id": "dZaG77Iy3ouC",
        "colab_type": "code",
        "colab": {
          "base_uri": "https://localhost:8080/",
          "height": 34
        },
        "outputId": "9db177b9-49d3-4f81-930e-36c29154c79f"
      },
      "source": [
        "np.argmin(test_score2, axis=0)"
      ],
      "execution_count": 25,
      "outputs": [
        {
          "output_type": "execute_result",
          "data": {
            "text/plain": [
              "array([2, 1, 0, 0, 2])"
            ]
          },
          "metadata": {
            "tags": []
          },
          "execution_count": 25
        }
      ]
    },
    {
      "cell_type": "markdown",
      "metadata": {
        "id": "t2b-JJ3A3ouF",
        "colab_type": "text"
      },
      "source": [
        "# 数组的运算"
      ]
    },
    {
      "cell_type": "code",
      "metadata": {
        "id": "a7gReIe33ouG",
        "colab_type": "code",
        "colab": {
          "base_uri": "https://localhost:8080/",
          "height": 34
        },
        "outputId": "69782cb2-bcc2-4780-93ee-5ccefda36bba"
      },
      "source": [
        "a = np.array([1,2,3,4,5])\n",
        "a"
      ],
      "execution_count": 26,
      "outputs": [
        {
          "output_type": "execute_result",
          "data": {
            "text/plain": [
              "array([1, 2, 3, 4, 5])"
            ]
          },
          "metadata": {
            "tags": []
          },
          "execution_count": 26
        }
      ]
    },
    {
      "cell_type": "code",
      "metadata": {
        "id": "-f_C8qWw3ouJ",
        "colab_type": "code",
        "colab": {
          "base_uri": "https://localhost:8080/",
          "height": 34
        },
        "outputId": "412c96cc-bace-475d-95b9-36a886204127"
      },
      "source": [
        "a + 2"
      ],
      "execution_count": 27,
      "outputs": [
        {
          "output_type": "execute_result",
          "data": {
            "text/plain": [
              "array([3, 4, 5, 6, 7])"
            ]
          },
          "metadata": {
            "tags": []
          },
          "execution_count": 27
        }
      ]
    },
    {
      "cell_type": "code",
      "metadata": {
        "id": "5Q2nqh3Z3ouK",
        "colab_type": "code",
        "colab": {
          "base_uri": "https://localhost:8080/",
          "height": 34
        },
        "outputId": "d7c76744-0ed4-472a-9250-ba5b80ef4341"
      },
      "source": [
        "a * 2"
      ],
      "execution_count": 28,
      "outputs": [
        {
          "output_type": "execute_result",
          "data": {
            "text/plain": [
              "array([ 2,  4,  6,  8, 10])"
            ]
          },
          "metadata": {
            "tags": []
          },
          "execution_count": 28
        }
      ]
    },
    {
      "cell_type": "code",
      "metadata": {
        "id": "HKTvHhgQ3ouM",
        "colab_type": "code",
        "colab": {}
      },
      "source": [
        "arr1 = np.array([[1, 2, 3, 2, 1, 4], [5, 6, 1, 2, 3, 1]])\n",
        "arr2 = np.array([[1, 2, 3, 4], [3, 4, 5, 6]])"
      ],
      "execution_count": 0,
      "outputs": []
    },
    {
      "cell_type": "code",
      "metadata": {
        "id": "kaT24FFd3ouO",
        "colab_type": "code",
        "colab": {}
      },
      "source": [
        "# arr1 + arr2"
      ],
      "execution_count": 0,
      "outputs": []
    },
    {
      "cell_type": "code",
      "metadata": {
        "id": "RHNWgj6H3ouQ",
        "colab_type": "code",
        "colab": {
          "base_uri": "https://localhost:8080/",
          "height": 51
        },
        "outputId": "bd778817-dc0d-44cc-972f-62571c135d1e"
      },
      "source": [
        "arr2"
      ],
      "execution_count": 31,
      "outputs": [
        {
          "output_type": "execute_result",
          "data": {
            "text/plain": [
              "array([[1, 2, 3, 4],\n",
              "       [3, 4, 5, 6]])"
            ]
          },
          "metadata": {
            "tags": []
          },
          "execution_count": 31
        }
      ]
    },
    {
      "cell_type": "code",
      "metadata": {
        "id": "zNZux0lo3ouS",
        "colab_type": "code",
        "colab": {}
      },
      "source": [
        "arr3 = np.array([[1, 2, 3, 4], [3, 4, 5, 6]])"
      ],
      "execution_count": 0,
      "outputs": []
    },
    {
      "cell_type": "code",
      "metadata": {
        "id": "ThbADKDo3ouU",
        "colab_type": "code",
        "colab": {
          "base_uri": "https://localhost:8080/",
          "height": 51
        },
        "outputId": "f2ac59bb-411b-4262-d983-c52adae620f7"
      },
      "source": [
        "arr2 * arr3"
      ],
      "execution_count": 33,
      "outputs": [
        {
          "output_type": "execute_result",
          "data": {
            "text/plain": [
              "array([[ 1,  4,  9, 16],\n",
              "       [ 9, 16, 25, 36]])"
            ]
          },
          "metadata": {
            "tags": []
          },
          "execution_count": 33
        }
      ]
    },
    {
      "cell_type": "code",
      "metadata": {
        "id": "aSiRSyFz3ouX",
        "colab_type": "code",
        "colab": {
          "base_uri": "https://localhost:8080/",
          "height": 51
        },
        "outputId": "c1b2901d-b686-4c9f-aec2-a3057b9e5aeb"
      },
      "source": [
        "arr4 = np.array([[2], [3]])  # 两行一列\n",
        "arr4"
      ],
      "execution_count": 34,
      "outputs": [
        {
          "output_type": "execute_result",
          "data": {
            "text/plain": [
              "array([[2],\n",
              "       [3]])"
            ]
          },
          "metadata": {
            "tags": []
          },
          "execution_count": 34
        }
      ]
    },
    {
      "cell_type": "code",
      "metadata": {
        "id": "KM8cDB1O3ouZ",
        "colab_type": "code",
        "colab": {
          "base_uri": "https://localhost:8080/",
          "height": 51
        },
        "outputId": "e9f02c4e-c786-4e01-9f3e-39118f86b96b"
      },
      "source": [
        "arr3  # 两行四列"
      ],
      "execution_count": 35,
      "outputs": [
        {
          "output_type": "execute_result",
          "data": {
            "text/plain": [
              "array([[1, 2, 3, 4],\n",
              "       [3, 4, 5, 6]])"
            ]
          },
          "metadata": {
            "tags": []
          },
          "execution_count": 35
        }
      ]
    },
    {
      "cell_type": "code",
      "metadata": {
        "id": "iy3SyE8H3oub",
        "colab_type": "code",
        "colab": {
          "base_uri": "https://localhost:8080/",
          "height": 51
        },
        "outputId": "0e1d3329-d4d0-44a2-ec2c-cea1828a36c9"
      },
      "source": [
        "arr3 + arr4"
      ],
      "execution_count": 36,
      "outputs": [
        {
          "output_type": "execute_result",
          "data": {
            "text/plain": [
              "array([[3, 4, 5, 6],\n",
              "       [6, 7, 8, 9]])"
            ]
          },
          "metadata": {
            "tags": []
          },
          "execution_count": 36
        }
      ]
    },
    {
      "cell_type": "code",
      "metadata": {
        "id": "oYOIgeUv3oue",
        "colab_type": "code",
        "colab": {
          "base_uri": "https://localhost:8080/",
          "height": 51
        },
        "outputId": "ba3f7ce7-1ea0-4bc2-f215-db4b1fac218e"
      },
      "source": [
        "arr5 = np.array([[2,2,2,2], [3,3,3,3]])\n",
        "arr5"
      ],
      "execution_count": 37,
      "outputs": [
        {
          "output_type": "execute_result",
          "data": {
            "text/plain": [
              "array([[2, 2, 2, 2],\n",
              "       [3, 3, 3, 3]])"
            ]
          },
          "metadata": {
            "tags": []
          },
          "execution_count": 37
        }
      ]
    },
    {
      "cell_type": "code",
      "metadata": {
        "id": "4TXCLNGi3oui",
        "colab_type": "code",
        "colab": {
          "base_uri": "https://localhost:8080/",
          "height": 51
        },
        "outputId": "6660decc-a513-4f8a-b370-aba0f0d39420"
      },
      "source": [
        "arr3 +arr5"
      ],
      "execution_count": 38,
      "outputs": [
        {
          "output_type": "execute_result",
          "data": {
            "text/plain": [
              "array([[3, 4, 5, 6],\n",
              "       [6, 7, 8, 9]])"
            ]
          },
          "metadata": {
            "tags": []
          },
          "execution_count": 38
        }
      ]
    },
    {
      "cell_type": "code",
      "metadata": {
        "id": "ZAp1vBFX3oum",
        "colab_type": "code",
        "colab": {
          "base_uri": "https://localhost:8080/",
          "height": 85
        },
        "outputId": "cdab2474-4622-4b9d-ff68-cca375372cd0"
      },
      "source": [
        "arr1 = np.array([[0],[1],[2],[3]])\n",
        "arr1.shape\n",
        "# (4, 1)\n",
        "\n",
        "arr2 = np.array([1,2,3])\n",
        "arr2.shape\n",
        "# (3,)\n",
        "\n",
        "arr1+arr2"
      ],
      "execution_count": 39,
      "outputs": [
        {
          "output_type": "execute_result",
          "data": {
            "text/plain": [
              "array([[1, 2, 3],\n",
              "       [2, 3, 4],\n",
              "       [3, 4, 5],\n",
              "       [4, 5, 6]])"
            ]
          },
          "metadata": {
            "tags": []
          },
          "execution_count": 39
        }
      ]
    },
    {
      "cell_type": "code",
      "metadata": {
        "id": "RfIlVhyP3oup",
        "colab_type": "code",
        "colab": {}
      },
      "source": [
        "a = np.array([2,3,4,5])\n",
        "b = np.array([3,4,5,6,7])"
      ],
      "execution_count": 0,
      "outputs": []
    },
    {
      "cell_type": "code",
      "metadata": {
        "id": "QiZYlV3J3ous",
        "colab_type": "code",
        "colab": {}
      },
      "source": [
        "# a + b  # 不可以"
      ],
      "execution_count": 0,
      "outputs": []
    },
    {
      "cell_type": "code",
      "metadata": {
        "id": "NsPO7AhI3out",
        "colab_type": "code",
        "colab": {
          "base_uri": "https://localhost:8080/",
          "height": 85
        },
        "outputId": "b1f6c66c-9118-41dd-fb57-0ed5bcbbcb41"
      },
      "source": [
        "a = np.ones([4,1])\n",
        "a"
      ],
      "execution_count": 42,
      "outputs": [
        {
          "output_type": "execute_result",
          "data": {
            "text/plain": [
              "array([[1.],\n",
              "       [1.],\n",
              "       [1.],\n",
              "       [1.]])"
            ]
          },
          "metadata": {
            "tags": []
          },
          "execution_count": 42
        }
      ]
    },
    {
      "cell_type": "code",
      "metadata": {
        "id": "YaoEqEvz3oux",
        "colab_type": "code",
        "colab": {
          "base_uri": "https://localhost:8080/",
          "height": 170
        },
        "outputId": "e4d1c4db-5bf8-4aef-a2aa-e788faa2981c"
      },
      "source": [
        "b = np.ones([2, 4, 3])\n",
        "b"
      ],
      "execution_count": 43,
      "outputs": [
        {
          "output_type": "execute_result",
          "data": {
            "text/plain": [
              "array([[[1., 1., 1.],\n",
              "        [1., 1., 1.],\n",
              "        [1., 1., 1.],\n",
              "        [1., 1., 1.]],\n",
              "\n",
              "       [[1., 1., 1.],\n",
              "        [1., 1., 1.],\n",
              "        [1., 1., 1.],\n",
              "        [1., 1., 1.]]])"
            ]
          },
          "metadata": {
            "tags": []
          },
          "execution_count": 43
        }
      ]
    },
    {
      "cell_type": "code",
      "metadata": {
        "id": "NRlaMjy-3ouz",
        "colab_type": "code",
        "colab": {}
      },
      "source": [
        "# a + b"
      ],
      "execution_count": 0,
      "outputs": []
    },
    {
      "cell_type": "markdown",
      "metadata": {
        "id": "zLGT9L1n3ou2",
        "colab_type": "text"
      },
      "source": [
        "# 矩阵运算"
      ]
    },
    {
      "cell_type": "code",
      "metadata": {
        "id": "a0R-GyHc3ou2",
        "colab_type": "code",
        "colab": {}
      },
      "source": [
        "a = np.array([[80, 86],\n",
        "[82, 80],\n",
        "[85, 78],\n",
        "[90, 90],\n",
        "[86, 82],\n",
        "[82, 90],\n",
        "[78, 80],\n",
        "[92, 94]])\n",
        "b = np.array([[0.7], [0.3]])"
      ],
      "execution_count": 0,
      "outputs": []
    },
    {
      "cell_type": "code",
      "metadata": {
        "id": "LPxxmRTe3ou6",
        "colab_type": "code",
        "colab": {
          "base_uri": "https://localhost:8080/",
          "height": 153
        },
        "outputId": "cf65b933-422b-4035-fe50-a9317e4ad1e4"
      },
      "source": [
        "a "
      ],
      "execution_count": 46,
      "outputs": [
        {
          "output_type": "execute_result",
          "data": {
            "text/plain": [
              "array([[80, 86],\n",
              "       [82, 80],\n",
              "       [85, 78],\n",
              "       [90, 90],\n",
              "       [86, 82],\n",
              "       [82, 90],\n",
              "       [78, 80],\n",
              "       [92, 94]])"
            ]
          },
          "metadata": {
            "tags": []
          },
          "execution_count": 46
        }
      ]
    },
    {
      "cell_type": "code",
      "metadata": {
        "id": "FXQBGZxg3ou7",
        "colab_type": "code",
        "colab": {
          "base_uri": "https://localhost:8080/",
          "height": 51
        },
        "outputId": "019c880e-8d3e-44e9-8329-967e9d5b37d8"
      },
      "source": [
        "b"
      ],
      "execution_count": 47,
      "outputs": [
        {
          "output_type": "execute_result",
          "data": {
            "text/plain": [
              "array([[0.7],\n",
              "       [0.3]])"
            ]
          },
          "metadata": {
            "tags": []
          },
          "execution_count": 47
        }
      ]
    },
    {
      "cell_type": "code",
      "metadata": {
        "id": "MF7mJwF43ou9",
        "colab_type": "code",
        "colab": {
          "base_uri": "https://localhost:8080/",
          "height": 153
        },
        "outputId": "d8225753-4bb7-4f3b-ec7d-72d3fc12067f"
      },
      "source": [
        "np.matmul(a, b)"
      ],
      "execution_count": 48,
      "outputs": [
        {
          "output_type": "execute_result",
          "data": {
            "text/plain": [
              "array([[81.8],\n",
              "       [81.4],\n",
              "       [82.9],\n",
              "       [90. ],\n",
              "       [84.8],\n",
              "       [84.4],\n",
              "       [78.6],\n",
              "       [92.6]])"
            ]
          },
          "metadata": {
            "tags": []
          },
          "execution_count": 48
        }
      ]
    },
    {
      "cell_type": "code",
      "metadata": {
        "id": "8fHVmow93ou_",
        "colab_type": "code",
        "colab": {}
      },
      "source": [
        "# a * b  # 数组间相乘和矩阵相乘是不同的!!!"
      ],
      "execution_count": 0,
      "outputs": []
    },
    {
      "cell_type": "code",
      "metadata": {
        "id": "koAU1hjg3ovB",
        "colab_type": "code",
        "colab": {
          "base_uri": "https://localhost:8080/",
          "height": 153
        },
        "outputId": "a939ceb7-52e5-42a0-c5c5-17f166ea2cbc"
      },
      "source": [
        "np.dot(a, b)"
      ],
      "execution_count": 50,
      "outputs": [
        {
          "output_type": "execute_result",
          "data": {
            "text/plain": [
              "array([[81.8],\n",
              "       [81.4],\n",
              "       [82.9],\n",
              "       [90. ],\n",
              "       [84.8],\n",
              "       [84.4],\n",
              "       [78.6],\n",
              "       [92.6]])"
            ]
          },
          "metadata": {
            "tags": []
          },
          "execution_count": 50
        }
      ]
    },
    {
      "cell_type": "code",
      "metadata": {
        "id": "ZA40V31M3ovE",
        "colab_type": "code",
        "colab": {
          "base_uri": "https://localhost:8080/",
          "height": 153
        },
        "outputId": "7f71ba2e-e302-4cbc-fb6c-062cc61f26a9"
      },
      "source": [
        "np.dot(a, 10)"
      ],
      "execution_count": 51,
      "outputs": [
        {
          "output_type": "execute_result",
          "data": {
            "text/plain": [
              "array([[800, 860],\n",
              "       [820, 800],\n",
              "       [850, 780],\n",
              "       [900, 900],\n",
              "       [860, 820],\n",
              "       [820, 900],\n",
              "       [780, 800],\n",
              "       [920, 940]])"
            ]
          },
          "metadata": {
            "tags": []
          },
          "execution_count": 51
        }
      ]
    },
    {
      "cell_type": "code",
      "metadata": {
        "id": "u91_8w4u3ovG",
        "colab_type": "code",
        "colab": {}
      },
      "source": [
        "# np.matmul(a, 10) # 不可以"
      ],
      "execution_count": 0,
      "outputs": []
    },
    {
      "cell_type": "code",
      "metadata": {
        "id": "MkgkMKiQ3ovI",
        "colab_type": "code",
        "colab": {}
      },
      "source": [
        ""
      ],
      "execution_count": 0,
      "outputs": []
    }
  ]
}